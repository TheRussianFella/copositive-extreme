{
 "cells": [
  {
   "cell_type": "markdown",
   "id": "d7b43bc2",
   "metadata": {},
   "source": [
    "# Graph matrix subspace checking"
   ]
  },
  {
   "cell_type": "code",
   "execution_count": 3,
   "id": "40012f88",
   "metadata": {},
   "outputs": [],
   "source": [
    "import cvxpy as cp\n",
    "import multiprocessing as mp\n",
    "from tqdm import tqdm \n",
    "from tqdm.contrib.itertools import product\n",
    "import numpy as np\n",
    "import os\n",
    "import datetime\n",
    "\n",
    "from graph_utils import *"
   ]
  },
  {
   "cell_type": "code",
   "execution_count": 155,
   "id": "779ad4af",
   "metadata": {},
   "outputs": [],
   "source": [
    "def get_rank_and_nullspace(A):\n",
    "    \n",
    "    _, v, d = np.linalg.svd(A)\n",
    "    # такой выбор толеранса используется в матлабе и в нампае\n",
    "    # https://numpy.org/doc/stable/reference/generated/numpy.linalg.matrix_rank.html\n",
    "    tol = v.max() * max(A.shape) * np.finfo(A.dtype).eps\n",
    "    nnz = (v >= tol).sum()\n",
    "    \n",
    "    return nnz, d[nnz:].T"
   ]
  },
  {
   "cell_type": "code",
   "execution_count": 169,
   "id": "a0e72d81",
   "metadata": {},
   "outputs": [],
   "source": [
    "def a_is_subspace_of_b(basis_a, basis_b):\n",
    "    \n",
    "    orig_rank, _ = get_rank_and_nullspace(basis_b)\n",
    "    combined_rank, _ = get_rank_and_nullspace(np.hstack([basis_a, basis_b]))\n",
    "    \n",
    "    return orig_rank == combined_rank"
   ]
  },
  {
   "cell_type": "code",
   "execution_count": 174,
   "id": "075e68e5",
   "metadata": {},
   "outputs": [],
   "source": [
    "def find_chain_starts(basis_set):\n",
    "    \n",
    "    # Sort by the dimensionality of subspaces\n",
    "    basis_set = sorted(basis_set, key=lambda x: x[1])\n",
    "    chain_starts = [basis_set[0]]\n",
    "    \n",
    "    # Go over basis sets and check whether their spaces are subspaces of some of chain_starts spaces\n",
    "    for i in range(1, len(basis_set)):\n",
    "        \n",
    "        not_a_subspace = True\n",
    "        \n",
    "        for start in chain_starts:\n",
    "            if a_is_subspace_of_b(basis_set[i][2], start[2]):\n",
    "                not_a_subspace = False\n",
    "                break\n",
    "        \n",
    "        if not_a_subspace:\n",
    "            chain_starts.append(basis_set[i])\n",
    "    \n",
    "    return chain_starts"
   ]
  },
  {
   "cell_type": "code",
   "execution_count": 193,
   "id": "1d643fd5",
   "metadata": {},
   "outputs": [],
   "source": [
    "ALL_GRAPHS = get_graphs()\n",
    "del ALL_GRAPHS['cycle']"
   ]
  },
  {
   "cell_type": "code",
   "execution_count": 182,
   "id": "80d2b711",
   "metadata": {},
   "outputs": [],
   "source": [
    "g = ALL_GRAPHS['cell']\n",
    "I = find_stable_sets(g)\n",
    "A, var_matr, num_params = build_triple_equalities(I, g.shape[0])"
   ]
  },
  {
   "cell_type": "code",
   "execution_count": null,
   "id": "2f6b1941",
   "metadata": {
    "scrolled": true
   },
   "outputs": [
    {
     "name": "stdout",
     "output_type": "stream",
     "text": [
      "dupl\n",
      "1 dimensions: 8\n",
      "zigzag\n",
      "1 dimensions: 6\n",
      "fork\n",
      "1 dimensions: 7\n",
      "big_zig\n",
      "1 dimensions: 7\n",
      "big_triag\n",
      "1 dimensions: 7\n",
      "ya_big_triag\n",
      "1 dimensions: 7\n",
      "ya_big_triag_2\n",
      "1 dimensions: 7\n",
      "tang_triag\n",
      "1 dimensions: 7\n",
      "square\n",
      "1 dimensions: 8\n",
      "center\n",
      "1 dimensions: 6\n",
      "ship\n"
     ]
    }
   ],
   "source": [
    "for name, g in ALL_GRAPHS.items():\n",
    "    \n",
    "    print(name)\n",
    "    I = find_stable_sets(g)\n",
    "    A, var_matr, num_params = build_triple_equalities(I, g.shape[0])\n",
    "    \n",
    "    basis_set = []\n",
    "    for i, addA in enumerate(build_variance_equalities_iterator(I, var_matr, num_params, only_nonequivalent=True)):\n",
    "        basis_set.append([i, *get_rank_and_nullspace(np.array(A + addA[0], dtype=np.float64))])\n",
    "    \n",
    "    chain_starts = find_chain_starts(basis_set)\n",
    "    print(len(chain_starts), \"dimensions:\", \",\".join([str(len(x[2][0])) for x in chain_starts]))"
   ]
  },
  {
   "cell_type": "code",
   "execution_count": 181,
   "id": "d1bdb269",
   "metadata": {
    "scrolled": false
   },
   "outputs": [
    {
     "data": {
      "text/plain": [
       "1"
      ]
     },
     "execution_count": 181,
     "metadata": {},
     "output_type": "execute_result"
    }
   ],
   "source": [
    "len(find_chain_starts(res))"
   ]
  }
 ],
 "metadata": {
  "kernelspec": {
   "display_name": "cvxpy_env",
   "language": "python",
   "name": "cvxpy_env"
  },
  "language_info": {
   "codemirror_mode": {
    "name": "ipython",
    "version": 3
   },
   "file_extension": ".py",
   "mimetype": "text/x-python",
   "name": "python",
   "nbconvert_exporter": "python",
   "pygments_lexer": "ipython3",
   "version": "3.9.7"
  }
 },
 "nbformat": 4,
 "nbformat_minor": 5
}
