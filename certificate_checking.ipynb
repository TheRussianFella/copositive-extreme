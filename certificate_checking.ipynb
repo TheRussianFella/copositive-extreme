{
 "cells": [
  {
   "cell_type": "markdown",
   "metadata": {
    "id": "IJgwGJd6kAt0"
   },
   "source": [
    "# Inequalities testing"
   ]
  },
  {
   "cell_type": "markdown",
   "metadata": {
    "id": "mw56pOw8kAt4"
   },
   "source": [
    "Этот код нужен, чтобы проверять придуманный сертификат на адекватность - введи ограничения на углы и задай вектор u в функции func(var) и код попробует найти углы, на которых знаки Au будут разные."
   ]
  },
  {
   "cell_type": "code",
   "execution_count": null,
   "metadata": {
    "id": "L8Q9_X9SkAt5"
   },
   "outputs": [],
   "source": [
    "import sympy\n",
    "import mystic.symbolic as ms\n",
    "import numpy as np\n",
    "from numpy import cos, sin\n",
    "import re\n",
    "import operator\n",
    "import pprint"
   ]
  },
  {
   "cell_type": "code",
   "execution_count": null,
   "metadata": {
    "id": "5Xm-3tZHkAt6"
   },
   "outputs": [],
   "source": [
    "var = list(\"ABCDEFG\")\n",
    "add_eqs = []\n",
    "\n",
    "for _ in range(len(var)):\n",
    "    s = ' + '.join(var[:4]) + ' - ' + ' - '.join(var[4:])\n",
    "    add_eqs.append(s + ' < 3.141592653589793')\n",
    "    add_eqs.append(s + ' > -3.141592653589793')\n",
    "    var.append(var.pop(0))\n",
    "\n",
    "add_eqs.append('A + B + C + D + E + F + G > 3.141592653589793')\n",
    "add_eqs.append('A + B + C + D + E + F + G < 9.42477796076938')\n",
    "\n",
    "add_eqs = '\\n'.join(add_eqs)"
   ]
  },
  {
   "cell_type": "code",
   "execution_count": null,
   "metadata": {
    "id": "3Thm3GxrkAt7",
    "outputId": "24b08b48-6ad2-42ae-bb39-ca7ac8255b2a",
    "scrolled": true
   },
   "outputs": [
    {
     "name": "stdout",
     "output_type": "stream",
     "text": [
      "('A + B + C + D - E - F < 3.141592653589793\\n'\n",
      " 'A + B + C + D - E - F > -3.141592653589793\\n'\n",
      " 'B + C + D + E - F - A < 3.141592653589793\\n'\n",
      " 'B + C + D + E - F - A > -3.141592653589793\\n'\n",
      " 'C + D + E + F - A - B < 3.141592653589793\\n'\n",
      " 'C + D + E + F - A - B > -3.141592653589793\\n'\n",
      " 'D + E + F + A - B - C < 3.141592653589793\\n'\n",
      " 'D + E + F + A - B - C > -3.141592653589793\\n'\n",
      " 'E + F + A + B - C - D < 3.141592653589793\\n'\n",
      " 'E + F + A + B - C - D > -3.141592653589793\\n'\n",
      " 'F + A + B + C - D - E < 3.141592653589793\\n'\n",
      " 'F + A + B + C - D - E > -3.141592653589793\\n'\n",
      " 'A + B + C + D + E + F + G > 3.141592653589793\\n'\n",
      " 'A + B + C + D + E + F + G < 9.42477796076938')\n"
     ]
    }
   ],
   "source": [
    "pprint.pprint(add_eqs)"
   ]
  },
  {
   "cell_type": "code",
   "execution_count": null,
   "metadata": {
    "id": "oxp5Mwp8kAt9"
   },
   "outputs": [],
   "source": [
    "def check_linear_constraints(var: dict, equations: str, verbose=False):\n",
    "    \n",
    "    comps = ['<', '>', '<=', '>=']\n",
    "    COMPARES = {'<': operator.lt, '>': operator.gt, '<=': operator.le, '>=': operator.ge}\n",
    "    OPERATIONS = {'+': operator.add, '-': operator.sub}\n",
    "    RES = True\n",
    "    \n",
    "    for eq in equations.split('\\n'):\n",
    "        \n",
    "        if not len(eq):\n",
    "            continue\n",
    "                \n",
    "        # Choose a comparison that has to be done\n",
    "        COMP = ''\n",
    "        for comp in comps:\n",
    "            if comp in eq:\n",
    "                COMP = comp\n",
    "        \n",
    "        # Calculate the value on the left\n",
    "        left, right = re.split('<=|>=|<|>',eq); left.strip(); right.strip()\n",
    "        right_val = float(right)\n",
    "        \n",
    "        val = 0; op = '+'\n",
    "        \n",
    "        for el in left.split(' '):\n",
    "            \n",
    "            # Add an element\n",
    "            if el in var.keys():\n",
    "                #print(el, var[el])\n",
    "                val = OPERATIONS[op](val, var[el])\n",
    "            # Change operation\n",
    "            elif el in OPERATIONS.keys():\n",
    "                #print(op)\n",
    "                op = el\n",
    "            #print(val)\n",
    "        # Make a comparison\n",
    "        if verbose:\n",
    "            if not COMPARES[COMP](val, right_val):\n",
    "                print(eq)\n",
    "                print(val, right_val)\n",
    "                print(COMPARES[COMP](val, right_val))\n",
    "        RES = RES and COMPARES[COMP](val, right_val)\n",
    "    if verbose:\n",
    "        print(\"Final: \", RES)\n",
    "    \n",
    "    return RES"
   ]
  },
  {
   "cell_type": "code",
   "execution_count": null,
   "metadata": {
    "id": "9LFvVOA0kAt_"
   },
   "outputs": [],
   "source": [
    "equations = \"\"\"A + B < 3.141592653589793\n",
    "A + B > 0\n",
    "B + C < 3.141592653589793\n",
    "B + C > 0\n",
    "C + D < 3.141592653589793\n",
    "C + D > 0\n",
    "D + E < 3.141592653589793\n",
    "D + E > 0\n",
    "E + F < 3.141592653589793\n",
    "E + F > 0\n",
    "F + G < 3.141592653589793\n",
    "F + G > 0\n",
    "C + D + E + F + G - A - B < 9.42477796076938\n",
    "C + D + E + F + G - A - B > 3.141592653589793\"\"\"\n",
    "equations += \"\\n\"+add_eqs"
   ]
  },
  {
   "cell_type": "code",
   "execution_count": null,
   "metadata": {
    "id": "7kkXkj6lkAt_"
   },
   "outputs": [],
   "source": [
    "eqns = ms.simplify(equations, variables=var, join=\"and_\") + '\\n'+ \"\"\"A > 0\n",
    "B > 0\n",
    "C > 0\n",
    "D > 0\n",
    "E > 0\n",
    "F > 0\n",
    "G > 0\"\"\""
   ]
  },
  {
   "cell_type": "code",
   "execution_count": null,
   "metadata": {
    "id": "XBjHOm1GkAuA"
   },
   "outputs": [],
   "source": [
    "constrain = ms.generate_constraint(ms.generate_solvers(eqns, var))"
   ]
  },
  {
   "cell_type": "code",
   "execution_count": null,
   "metadata": {
    "id": "iLKTzRiUkAuA"
   },
   "outputs": [],
   "source": [
    "def func(var: dict, u):\n",
    "    \n",
    "    A = np.array([\n",
    "        [1, cos(var['A'] + var['B']), -cos(var['E']+var['F']+var['G']), cos(var['F']+var['G'])],\n",
    "        [cos(var['A'] + var['B']), 1, cos(var['C'] + var['D']), -cos(var['C'] + var['D'] + var['E'])],\n",
    "        [-cos(var['E']+var['F']+var['G']), cos(var['C'] + var['D']), 1, -cos(var['E'])],\n",
    "        [cos(var['F']+var['G']), -cos(var['C'] + var['D'] + var['E']), -cos(var['E']), 1]\n",
    "    ])\n",
    "        \n",
    "    return A@u"
   ]
  },
  {
   "cell_type": "code",
   "execution_count": null,
   "metadata": {
    "id": "3MZXzA57kAuB"
   },
   "outputs": [],
   "source": [
    "def count_charaacteristics(var: dict, angles: list):\n",
    "    \n",
    "    angles = angles.copy()\n",
    "    \n",
    "    print(\"Суммы пар:\")\n",
    "    for i in range(len(angles)-1):\n",
    "        print(var[angles[i]] + var[angles[i+1]])\n",
    "    \n",
    "    print(\"Сумма:\")\n",
    "    print(sum(var.values()))\n",
    "    \n",
    "    print(\"Сигмы:\")\n",
    "    for _ in range(len(var)):\n",
    "        print(sum([var[x] for x in angles[:4]]) - sum([var[x] for x in angles[4:]]))\n",
    "        angles.append(angles.pop(0))"
   ]
  },
  {
   "cell_type": "code",
   "execution_count": null,
   "metadata": {
    "id": "99EBGGjdkAuC",
    "scrolled": true
   },
   "outputs": [],
   "source": [
    "MAX_ITER = 10000\n",
    "\n",
    "for _ in range(MAX_ITER):\n",
    "    a = np.random.uniform(0, np.pi, 7)\n",
    "    solution = constrain(a)\n",
    "    sol = {k: v for k,v in zip(var, solution)}\n",
    "    if check_linear_constraints(sol, equations, verbose=False):\n",
    "        \n",
    "        certs = [\n",
    "            np.array([1,0,0,0]),\n",
    "            np.array([0,1,0,0]),\n",
    "            np.array([0,0,1,0]),\n",
    "            np.array([0,0,0,1]),\n",
    "            np.array([1,1,0,0]),\n",
    "            np.array([1,0,1,0]),\n",
    "            np.array([1,0,0,1]),\n",
    "            np.array([0,1,1,0]),\n",
    "            np.array([0,1,0,1]),\n",
    "            np.array([0,0,1,1]),\n",
    "            np.array([1,1,1,1]),\n",
    "            np.array([1,1,1,0]),\n",
    "            np.array([1,1,0,1]),\n",
    "            np.array([1,0,1,1]),\n",
    "            np.array([0,1,1,1])\n",
    "        ]\n",
    "        \n",
    "        s = map(lambda x: sum(func(sol, x) >= 0), certs)\n",
    "        res = map(lambda x: x == 0 or x == len(func(sol, certs[0])), s) \n",
    "        # Check that all signs are different\n",
    "        if not any(res):\n",
    "            #pprint.pprint(sol)\n",
    "            #print(list(map(lambda x: func(sol,x), certs)))\n",
    "            print(\"____________________\")\n",
    "            count_charaacteristics(sol, var)"
   ]
  }
 ],
 "metadata": {
  "kernelspec": {
   "display_name": "Python 3",
   "language": "python",
   "name": "python3"
  },
  "language_info": {
   "codemirror_mode": {
    "name": "ipython",
    "version": 3
   },
   "file_extension": ".py",
   "mimetype": "text/x-python",
   "name": "python",
   "nbconvert_exporter": "python",
   "pygments_lexer": "ipython3",
   "version": "3.8.8"
  }
 },
 "nbformat": 4,
 "nbformat_minor": 2
}
