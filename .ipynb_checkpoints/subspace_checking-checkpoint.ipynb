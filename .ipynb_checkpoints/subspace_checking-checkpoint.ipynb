{
 "cells": [
  {
   "cell_type": "markdown",
   "id": "bc1a108d",
   "metadata": {},
   "source": [
    "# Graph matrix subspace checking"
   ]
  },
  {
   "cell_type": "code",
   "execution_count": 3,
   "id": "01a9731e",
   "metadata": {},
   "outputs": [],
   "source": [
    "import cvxpy as cp\n",
    "import multiprocessing as mp\n",
    "from tqdm import tqdm \n",
    "from tqdm.contrib.itertools import product\n",
    "import numpy as np\n",
    "import os\n",
    "import datetime\n",
    "\n",
    "from graph_utils import *"
   ]
  },
  {
   "cell_type": "code",
   "execution_count": 155,
   "id": "fe0f87c0",
   "metadata": {},
   "outputs": [],
   "source": [
    "def get_rank_and_nullspace(A):\n",
    "    \n",
    "    _, v, d = np.linalg.svd(A)\n",
    "    # такой выбор толеранса используется в матлабе и в нампае\n",
    "    # https://numpy.org/doc/stable/reference/generated/numpy.linalg.matrix_rank.html\n",
    "    tol = v.max() * max(A.shape) * np.finfo(A.dtype).eps\n",
    "    nnz = (v >= tol).sum()\n",
    "    \n",
    "    return nnz, d[nnz:].T"
   ]
  },
  {
   "cell_type": "code",
   "execution_count": 169,
   "id": "c014e2d6",
   "metadata": {},
   "outputs": [],
   "source": [
    "def a_is_subspace_of_b(basis_a, basis_b):\n",
    "    \n",
    "    orig_rank, _ = get_rank_and_nullspace(basis_b)\n",
    "    combined_rank, _ = get_rank_and_nullspace(np.hstack([basis_a, basis_b]))\n",
    "    \n",
    "    return orig_rank == combined_rank"
   ]
  },
  {
   "cell_type": "code",
   "execution_count": 174,
   "id": "0db2c228",
   "metadata": {},
   "outputs": [],
   "source": [
    "def find_chain_starts(basis_set):\n",
    "    \n",
    "    # Sort by the dimensionality of subspaces\n",
    "    basis_set = sorted(basis_set, key=lambda x: x[1])\n",
    "    chain_starts = [basis_set[0]]\n",
    "    \n",
    "    # Go over basis sets and check whether their spaces are subspaces of some of chain_starts spaces\n",
    "    for i in range(1, len(basis_set)):\n",
    "        \n",
    "        not_a_subspace = True\n",
    "        \n",
    "        for start in chain_starts:\n",
    "            if a_is_subspace_of_b(basis_set[i][2], start[2]):\n",
    "                not_a_subspace = False\n",
    "                break\n",
    "        \n",
    "        if not_a_subspace:\n",
    "            chain_starts.append(basis_set[i])\n",
    "    \n",
    "    return chain_starts"
   ]
  },
  {
   "cell_type": "code",
   "execution_count": 187,
   "id": "73b65474",
   "metadata": {},
   "outputs": [],
   "source": [
    "ALL_GRAPHS = get_graphs()"
   ]
  },
  {
   "cell_type": "code",
   "execution_count": 182,
   "id": "b83954e6",
   "metadata": {},
   "outputs": [],
   "source": [
    "g = ALL_GRAPHS['cell']\n",
    "I = find_stable_sets(g)\n",
    "A, var_matr, num_params = build_triple_equalities(I, g.shape[0])"
   ]
  },
  {
   "cell_type": "code",
   "execution_count": 189,
   "id": "2807b06b",
   "metadata": {},
   "outputs": [
    {
     "data": {
      "text/plain": [
       "array([[ 3.43424822e-17],\n",
       "       [ 2.04124145e-01],\n",
       "       [-1.02062073e-01],\n",
       "       [-1.02062073e-01],\n",
       "       [-4.64570195e-16],\n",
       "       [ 3.65067330e-16],\n",
       "       [ 2.04124145e-01],\n",
       "       [ 2.04124145e-01],\n",
       "       [-3.35257313e-16],\n",
       "       [ 2.84498524e-16],\n",
       "       [-1.02062073e-01],\n",
       "       [-1.02062073e-01],\n",
       "       [ 2.04124145e-01],\n",
       "       [ 2.04124145e-01],\n",
       "       [ 2.04124145e-01],\n",
       "       [ 2.61567367e-17],\n",
       "       [-2.11771614e-18],\n",
       "       [ 3.06186218e-01],\n",
       "       [-1.02062073e-01],\n",
       "       [-4.08248290e-01],\n",
       "       [ 2.04124145e-01],\n",
       "       [-4.80745420e-17],\n",
       "       [-7.56333994e-19],\n",
       "       [ 2.04124145e-01],\n",
       "       [ 1.40235006e-16],\n",
       "       [-1.02062073e-01],\n",
       "       [-1.02062073e-01],\n",
       "       [-1.02062073e-01],\n",
       "       [-1.02062073e-01],\n",
       "       [-1.02062073e-01],\n",
       "       [-3.06186218e-01],\n",
       "       [-1.02062073e-01],\n",
       "       [-1.02062073e-01],\n",
       "       [-1.02062073e-01],\n",
       "       [-1.02062073e-01],\n",
       "       [-1.66533454e-16],\n",
       "       [ 1.38777878e-16],\n",
       "       [ 2.04124145e-01],\n",
       "       [ 2.04124145e-01],\n",
       "       [-2.22044605e-16],\n",
       "       [ 2.04124145e-01],\n",
       "       [-3.33066907e-16],\n",
       "       [ 2.08166817e-17],\n",
       "       [ 2.04124145e-01],\n",
       "       [ 5.55111512e-17]])"
      ]
     },
     "execution_count": 189,
     "metadata": {},
     "output_type": "execute_result"
    }
   ],
   "source": [
    "res[1][2]"
   ]
  },
  {
   "cell_type": "code",
   "execution_count": 183,
   "id": "b2ffe7ea",
   "metadata": {
    "scrolled": true
   },
   "outputs": [
    {
     "ename": "KeyboardInterrupt",
     "evalue": "",
     "output_type": "error",
     "traceback": [
      "\u001b[0;31m---------------------------------------------------------------------------\u001b[0m",
      "\u001b[0;31mKeyboardInterrupt\u001b[0m                         Traceback (most recent call last)",
      "\u001b[0;32m/tmp/ipykernel_37756/1870760827.py\u001b[0m in \u001b[0;36m<module>\u001b[0;34m\u001b[0m\n\u001b[1;32m      2\u001b[0m \u001b[0;34m\u001b[0m\u001b[0m\n\u001b[1;32m      3\u001b[0m \u001b[0;32mfor\u001b[0m \u001b[0mi\u001b[0m\u001b[0;34m,\u001b[0m \u001b[0maddA\u001b[0m \u001b[0;32min\u001b[0m \u001b[0menumerate\u001b[0m\u001b[0;34m(\u001b[0m\u001b[0mbuild_variance_equalities_iterator\u001b[0m\u001b[0;34m(\u001b[0m\u001b[0mI\u001b[0m\u001b[0;34m,\u001b[0m \u001b[0mvar_matr\u001b[0m\u001b[0;34m,\u001b[0m \u001b[0mnum_params\u001b[0m\u001b[0;34m,\u001b[0m \u001b[0monly_nonequivalent\u001b[0m\u001b[0;34m=\u001b[0m\u001b[0;32mTrue\u001b[0m\u001b[0;34m)\u001b[0m\u001b[0;34m)\u001b[0m\u001b[0;34m:\u001b[0m\u001b[0;34m\u001b[0m\u001b[0;34m\u001b[0m\u001b[0m\n\u001b[0;32m----> 4\u001b[0;31m     \u001b[0mres\u001b[0m\u001b[0;34m.\u001b[0m\u001b[0mappend\u001b[0m\u001b[0;34m(\u001b[0m\u001b[0;34m[\u001b[0m\u001b[0mi\u001b[0m\u001b[0;34m,\u001b[0m \u001b[0;34m*\u001b[0m\u001b[0mget_rank_and_nullspace\u001b[0m\u001b[0;34m(\u001b[0m\u001b[0mnp\u001b[0m\u001b[0;34m.\u001b[0m\u001b[0marray\u001b[0m\u001b[0;34m(\u001b[0m\u001b[0mA\u001b[0m \u001b[0;34m+\u001b[0m \u001b[0maddA\u001b[0m\u001b[0;34m[\u001b[0m\u001b[0;36m0\u001b[0m\u001b[0;34m]\u001b[0m\u001b[0;34m,\u001b[0m \u001b[0mdtype\u001b[0m\u001b[0;34m=\u001b[0m\u001b[0mnp\u001b[0m\u001b[0;34m.\u001b[0m\u001b[0mfloat64\u001b[0m\u001b[0;34m)\u001b[0m\u001b[0;34m)\u001b[0m\u001b[0;34m]\u001b[0m\u001b[0;34m)\u001b[0m\u001b[0;34m\u001b[0m\u001b[0;34m\u001b[0m\u001b[0m\n\u001b[0m",
      "\u001b[0;32m/tmp/ipykernel_37756/1061931876.py\u001b[0m in \u001b[0;36mget_rank_and_nullspace\u001b[0;34m(A)\u001b[0m\n\u001b[1;32m      1\u001b[0m \u001b[0;32mdef\u001b[0m \u001b[0mget_rank_and_nullspace\u001b[0m\u001b[0;34m(\u001b[0m\u001b[0mA\u001b[0m\u001b[0;34m)\u001b[0m\u001b[0;34m:\u001b[0m\u001b[0;34m\u001b[0m\u001b[0;34m\u001b[0m\u001b[0m\n\u001b[1;32m      2\u001b[0m \u001b[0;34m\u001b[0m\u001b[0m\n\u001b[0;32m----> 3\u001b[0;31m     \u001b[0m_\u001b[0m\u001b[0;34m,\u001b[0m \u001b[0mv\u001b[0m\u001b[0;34m,\u001b[0m \u001b[0md\u001b[0m \u001b[0;34m=\u001b[0m \u001b[0mnp\u001b[0m\u001b[0;34m.\u001b[0m\u001b[0mlinalg\u001b[0m\u001b[0;34m.\u001b[0m\u001b[0msvd\u001b[0m\u001b[0;34m(\u001b[0m\u001b[0mA\u001b[0m\u001b[0;34m)\u001b[0m\u001b[0;34m\u001b[0m\u001b[0;34m\u001b[0m\u001b[0m\n\u001b[0m\u001b[1;32m      4\u001b[0m     \u001b[0;31m# такой выбор толеранса используется в матлабе и в нампае\u001b[0m\u001b[0;34m\u001b[0m\u001b[0;34m\u001b[0m\u001b[0m\n\u001b[1;32m      5\u001b[0m     \u001b[0;31m# https://numpy.org/doc/stable/reference/generated/numpy.linalg.matrix_rank.html\u001b[0m\u001b[0;34m\u001b[0m\u001b[0;34m\u001b[0m\u001b[0m\n",
      "\u001b[0;32m<__array_function__ internals>\u001b[0m in \u001b[0;36msvd\u001b[0;34m(*args, **kwargs)\u001b[0m\n",
      "\u001b[0;32m~/anaconda3/envs/cvxpy_env/lib/python3.9/site-packages/numpy/linalg/linalg.py\u001b[0m in \u001b[0;36msvd\u001b[0;34m(a, full_matrices, compute_uv, hermitian)\u001b[0m\n\u001b[1;32m   1658\u001b[0m \u001b[0;34m\u001b[0m\u001b[0m\n\u001b[1;32m   1659\u001b[0m         \u001b[0msignature\u001b[0m \u001b[0;34m=\u001b[0m \u001b[0;34m'D->DdD'\u001b[0m \u001b[0;32mif\u001b[0m \u001b[0misComplexType\u001b[0m\u001b[0;34m(\u001b[0m\u001b[0mt\u001b[0m\u001b[0;34m)\u001b[0m \u001b[0;32melse\u001b[0m \u001b[0;34m'd->ddd'\u001b[0m\u001b[0;34m\u001b[0m\u001b[0;34m\u001b[0m\u001b[0m\n\u001b[0;32m-> 1660\u001b[0;31m         \u001b[0mu\u001b[0m\u001b[0;34m,\u001b[0m \u001b[0ms\u001b[0m\u001b[0;34m,\u001b[0m \u001b[0mvh\u001b[0m \u001b[0;34m=\u001b[0m \u001b[0mgufunc\u001b[0m\u001b[0;34m(\u001b[0m\u001b[0ma\u001b[0m\u001b[0;34m,\u001b[0m \u001b[0msignature\u001b[0m\u001b[0;34m=\u001b[0m\u001b[0msignature\u001b[0m\u001b[0;34m,\u001b[0m \u001b[0mextobj\u001b[0m\u001b[0;34m=\u001b[0m\u001b[0mextobj\u001b[0m\u001b[0;34m)\u001b[0m\u001b[0;34m\u001b[0m\u001b[0;34m\u001b[0m\u001b[0m\n\u001b[0m\u001b[1;32m   1661\u001b[0m         \u001b[0mu\u001b[0m \u001b[0;34m=\u001b[0m \u001b[0mu\u001b[0m\u001b[0;34m.\u001b[0m\u001b[0mastype\u001b[0m\u001b[0;34m(\u001b[0m\u001b[0mresult_t\u001b[0m\u001b[0;34m,\u001b[0m \u001b[0mcopy\u001b[0m\u001b[0;34m=\u001b[0m\u001b[0;32mFalse\u001b[0m\u001b[0;34m)\u001b[0m\u001b[0;34m\u001b[0m\u001b[0;34m\u001b[0m\u001b[0m\n\u001b[1;32m   1662\u001b[0m         \u001b[0ms\u001b[0m \u001b[0;34m=\u001b[0m \u001b[0ms\u001b[0m\u001b[0;34m.\u001b[0m\u001b[0mastype\u001b[0m\u001b[0;34m(\u001b[0m\u001b[0m_realType\u001b[0m\u001b[0;34m(\u001b[0m\u001b[0mresult_t\u001b[0m\u001b[0;34m)\u001b[0m\u001b[0;34m,\u001b[0m \u001b[0mcopy\u001b[0m\u001b[0;34m=\u001b[0m\u001b[0;32mFalse\u001b[0m\u001b[0;34m)\u001b[0m\u001b[0;34m\u001b[0m\u001b[0;34m\u001b[0m\u001b[0m\n",
      "\u001b[0;31mKeyboardInterrupt\u001b[0m: "
     ]
    }
   ],
   "source": [
    "for name, g in ALL_GRAPHS.items():\n",
    "\n",
    "    I = find_stable_sets(g)\n",
    "    A, var_matr, num_params = build_triple_equalities(I, g.shape[0])\n",
    "    \n",
    "    basis_set = []\n",
    "    for i, addA in enumerate(build_variance_equalities_iterator(I, var_matr, num_params, only_nonequivalent=True)):\n",
    "        res.append([i, *get_rank_and_nullspace(np.array(A + addA[0], dtype=np.float64))])\n",
    "    \n",
    "    chain_starts = find_chain_starts(basis_set)\n",
    "    print(name, len(chain_starts), \"dimensions:\", \",\".join([len(x[2])for x in chain_starts]))"
   ]
  },
  {
   "cell_type": "code",
   "execution_count": 181,
   "id": "4e7bead3",
   "metadata": {
    "scrolled": false
   },
   "outputs": [
    {
     "data": {
      "text/plain": [
       "1"
      ]
     },
     "execution_count": 181,
     "metadata": {},
     "output_type": "execute_result"
    }
   ],
   "source": [
    "len(find_chain_starts(res))"
   ]
  },
  {
   "cell_type": "code",
   "execution_count": null,
   "id": "b73782f1",
   "metadata": {},
   "outputs": [],
   "source": [
    "if not os.path.isdir(\"graphData\"):\n",
    "    os.mkdir(\"graphData\")\n",
    "\n",
    "for name, g in ALL_GRAPHS.items():\n",
    "\n",
    "  I = find_stable_sets(g)\n",
    "  A, var_matr, num_params = build_triple_equalities(I, g.shape[0])\n",
    "\n",
    "  B, c = build_inequalities(num_params)\n",
    "\n",
    "  x = cp.Variable(num_params)\n",
    "  func = cp.sum(cp.log( c - B@x ))\n",
    "  \n",
    "  if not os.path.isdir(\"graphData/{}\".format(name)):\n",
    "    os.mkdir(\"graphData/{}\".format(name))\n",
    "    \n",
    "  # если взять SCS solver, то всё feasable!\n",
    "  # chunksize кажется особо не влияет на скорость, но влияет на занимаемую память\n",
    "  # 3 граф обрабатывается быстрее всех\n",
    "  # !!!! нужно оценить, какой прирост может дать переход на улучшенный алгоритм\n",
    "  # !!!! запустить у себя на компе не оптимизированную версию - пускай считается, пока оптимизируем\n",
    "\n",
    "  # два графа опять пустые, зато big_triag пофиксился - оказалось, что он был задан неверно. но эти вроде норм заданы...\n",
    "  \n",
    "  # я не задаю нулевую точку - это тоже может влиять на сходимость: в этих солверах нельзя их задать\n",
    "  \n",
    "  # SCS всегда выдаёт feasible. Если поставить константную функцию, то ECOS тоже всё считает feasible - \n",
    "  # это странно, т.к. по идеи от неё эта штука не должа зависеть. \n",
    "\n",
    "  with mp.Pool(processes=os.cpu_count()) as pool:\n",
    "\n",
    "    for res in tqdm(pool.imap(process, build_variance_equalities_iterator(I, var_matr, num_params, only_nonequivalent=True\n",
    "                                                                         ), chunksize=1000)):\n",
    "      if len(res) != 0:\n",
    "        res[0] = num_params - res[0]\n",
    "        print(\"hello there\")\n",
    "        with open(\"graphData/{}/{}\".format(name, str(datetime.datetime.now())), \"w+\") as outfile:\n",
    "          outfile.write(\"\\n\".join(map(str, res)))"
   ]
  }
 ],
 "metadata": {
  "kernelspec": {
   "display_name": "cvxpy_env",
   "language": "python",
   "name": "cvxpy_env"
  },
  "language_info": {
   "codemirror_mode": {
    "name": "ipython",
    "version": 3
   },
   "file_extension": ".py",
   "mimetype": "text/x-python",
   "name": "python",
   "nbconvert_exporter": "python",
   "pygments_lexer": "ipython3",
   "version": "3.9.7"
  }
 },
 "nbformat": 4,
 "nbformat_minor": 5
}
