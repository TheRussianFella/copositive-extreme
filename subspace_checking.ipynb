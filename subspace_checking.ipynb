{
 "cells": [
  {
   "cell_type": "markdown",
   "metadata": {},
   "source": [
    "# Graph matrix subspace checking"
   ]
  },
  {
   "cell_type": "code",
   "execution_count": 1,
   "metadata": {
    "collapsed": true
   },
   "outputs": [],
   "source": [
    "import os\n",
    "os.environ[\"MKL_NUM_THREADS\"] = \"8\" \n",
    "#os.environ[\"NUMEXPR_NUM_THREADS\"] = \"8\" \n",
    "#os.environ[\"OMP_NUM_THREADS\"] = \"8\" "
   ]
  },
  {
   "cell_type": "code",
   "execution_count": 2,
   "metadata": {
    "collapsed": false
   },
   "outputs": [],
   "source": [
    "from tqdm import tqdm \n",
    "import numpy as np\n",
    "import os\n",
    "import datetime\n",
    "from threadpoolctl import threadpool_limits\n",
    "\n",
    "from graph_utils import *"
   ]
  },
  {
   "cell_type": "code",
   "execution_count": 3,
   "metadata": {
    "collapsed": true
   },
   "outputs": [],
   "source": [
    "def get_rank_and_nullspace(A):\n",
    "    \n",
    "    _, v, d = np.linalg.svd(A)\n",
    "        \n",
    "    # такой выбор толеранса используется в матлабе и в нампае\n",
    "    # https://numpy.org/doc/stable/reference/generated/numpy.linalg.matrix_rank.html\n",
    "    tol = v.max() * max(A.shape) * np.finfo(A.dtype).eps\n",
    "    nnz = (v >= tol).sum()\n",
    "    \n",
    "    return nnz, d[nnz:].T"
   ]
  },
  {
   "cell_type": "code",
   "execution_count": 4,
   "metadata": {
    "collapsed": true
   },
   "outputs": [],
   "source": [
    "def a_is_subspace_of_b(basis_a, basis_b):\n",
    "    \n",
    "    orig_rank, _ = get_rank_and_nullspace(basis_b)\n",
    "    combined_rank, _ = get_rank_and_nullspace(np.hstack([basis_a, basis_b]))\n",
    "    \n",
    "    return orig_rank == combined_rank"
   ]
  },
  {
   "cell_type": "code",
   "execution_count": 5,
   "metadata": {
    "collapsed": true
   },
   "outputs": [],
   "source": [
    "def find_chain_starts(basis_set):\n",
    "    \n",
    "    # Sort by the dimensionality of subspaces\n",
    "    basis_set = sorted(basis_set, key=lambda x: x[1])\n",
    "    chain_starts = [basis_set[0]]\n",
    "    \n",
    "    # Go over basis sets and check whether their spaces are subspaces of some of chain_starts spaces\n",
    "    for i in range(1, len(basis_set)):\n",
    "        \n",
    "        not_a_subspace = True\n",
    "        \n",
    "        for start in chain_starts:\n",
    "            if a_is_subspace_of_b(basis_set[i][2], start[2]):\n",
    "                not_a_subspace = False\n",
    "                break\n",
    "        \n",
    "        if not_a_subspace:\n",
    "            chain_starts.append(basis_set[i])\n",
    "    \n",
    "    return chain_starts"
   ]
  },
  {
   "cell_type": "code",
   "execution_count": 6,
   "metadata": {
    "collapsed": true
   },
   "outputs": [],
   "source": [
    "# Function for an online version of an algorithm\n",
    "# chain_starts are supposed to be sorted by x[1]\n",
    "\n",
    "def get_new_starts(chain_starts, new_basis):\n",
    "    \n",
    "    if len(chain_starts) == 0:\n",
    "        chain_starts.append(new_basis)\n",
    "        return\n",
    "    \n",
    "    checked_pos = 0\n",
    "    \n",
    "    # check if we are embedded in some space\n",
    "    while checked_pos < len(chain_starts) and len(chain_starts[checked_pos][2][0]) >= len(new_basis[2][0]):\n",
    "        if a_is_subspace_of_b(new_basis[2], chain_starts[checked_pos][2]):\n",
    "            return\n",
    "        checked_pos += 1\n",
    "    \n",
    "    # new basis is not embedded anywhere therefore we insert it\n",
    "    chain_starts.insert(checked_pos, new_basis)\n",
    "    checked_pos += 1\n",
    "    \n",
    "    # now we delete subspaces, that are embedded into a new one\n",
    "    while checked_pos < len(chain_starts):\n",
    "        if a_is_subspace_of_b(chain_starts[checked_pos][2], new_basis[2]):\n",
    "            chain_starts.pop(checked_pos)\n",
    "        else:\n",
    "            checked_pos += 1"
   ]
  },
  {
   "cell_type": "code",
   "execution_count": 7,
   "metadata": {
    "collapsed": true
   },
   "outputs": [],
   "source": [
    "ALL_GRAPHS = get_graphs()\n",
    "del ALL_GRAPHS['cycle']"
   ]
  },
  {
   "cell_type": "code",
   "execution_count": 8,
   "metadata": {
    "collapsed": false
   },
   "outputs": [],
   "source": [
    "ALL_GRAPHS = {'dupl': ALL_GRAPHS['dupl'], 'zigzag': ALL_GRAPHS['zigzag'], 'fork': ALL_GRAPHS['fork'], \n",
    "              'big_triag': ALL_GRAPHS['big_triag'], 'big_zig': ALL_GRAPHS['big_zig']}"
   ]
  },
  {
   "cell_type": "code",
   "execution_count": 9,
   "metadata": {
    "collapsed": false
   },
   "outputs": [
    {
     "name": "stdout",
     "output_type": "stream",
     "text": [
      "zigzag\n",
      "12 x 28 18 x 28\n",
      "1 dimensions: 6\n",
      "fork\n",
      "11 x 28 16 x 28\n",
      "1 dimensions: 7\n",
      "dupl\n",
      "10 x 28 14 x 28\n",
      "1 dimensions: 8\n",
      "big_triag\n",
      "16 x 36 29 x 36\n",
      "1 dimensions: 7\n",
      "big_zig\n",
      "16 x 36 29 x 36\n",
      "1 dimensions: 7\n",
      "CPU times: user 4min 39s, sys: 2.58 s, total: 4min 42s\n",
      "Wall time: 1min 19s\n"
     ]
    }
   ],
   "source": [
    "%%time\n",
    "\n",
    "for name, g in ALL_GRAPHS.items():\n",
    "\n",
    "    print(name)\n",
    "    I = find_stable_sets(g)\n",
    "    A, var_matr, num_params = build_triple_equalities(I, g.shape[0])\n",
    "\n",
    "    basis_set = []\n",
    "    for i, addA in enumerate(build_variance_equalities_iterator(I, var_matr, num_params, only_nonequivalent=True)):\n",
    "        basis_set.append([i, *get_rank_and_nullspace(np.array(A + addA[0], dtype=np.float64))])\n",
    "\n",
    "    chain_starts = find_chain_starts(basis_set)\n",
    "\n",
    "    print(\"{} x {}\".format(len(A), len(A[0])), \"{} x {}\".format(len(addA[0]), len(addA[0][0])))\n",
    "    print(len(chain_starts), \"dimensions:\", \",\".join([str(len(x[2][0])) for x in chain_starts]))"
   ]
  },
  {
   "cell_type": "code",
   "execution_count": 10,
   "metadata": {
    "collapsed": false,
    "scrolled": true
   },
   "outputs": [
    {
     "name": "stdout",
     "output_type": "stream",
     "text": [
      "zigzag\n",
      "12 x 28 18 x 28\n",
      "1 dimensions: 6\n",
      "fork\n",
      "11 x 28 16 x 28\n",
      "1 dimensions: 7\n",
      "dupl\n",
      "10 x 28 14 x 28\n",
      "1 dimensions: 8\n",
      "big_triag\n",
      "16 x 36 29 x 36\n",
      "1 dimensions: 7\n",
      "big_zig\n",
      "16 x 36 29 x 36\n",
      "1 dimensions: 7\n",
      "CPU times: user 6min 14s, sys: 3.18 s, total: 6min 18s\n",
      "Wall time: 1min 34s\n"
     ]
    }
   ],
   "source": [
    "%%time\n",
    "\n",
    "for name, g in ALL_GRAPHS.items():\n",
    "    \n",
    "    print(name)\n",
    "    I = find_stable_sets(g)\n",
    "    A, var_matr, num_params = build_triple_equalities(I, g.shape[0])\n",
    "    \n",
    "    chain_starts = []\n",
    "    for i, addA in enumerate(build_variance_equalities_iterator(I, var_matr, num_params, only_nonequivalent=True)):\n",
    "        chain_starts.append([i, *get_rank_and_nullspace(np.array(A + addA[0], dtype=np.float64))])\n",
    "        chain_starts = find_chain_starts(chain_starts)\n",
    "    \n",
    "    print(\"{} x {}\".format(len(A), len(A[0])), \"{} x {}\".format(len(addA[0]), len(addA[0][0])))\n",
    "    print(len(chain_starts), \"dimensions:\", \",\".join([str(len(x[2][0])) for x in chain_starts]))"
   ]
  },
  {
   "cell_type": "code",
   "execution_count": 11,
   "metadata": {
    "collapsed": false
   },
   "outputs": [
    {
     "name": "stdout",
     "output_type": "stream",
     "text": [
      "big_triag\n",
      "16 x 36 29 x 36\n",
      "1 dimensions: 7\n",
      "big_zig\n",
      "16 x 36 29 x 36\n",
      "1 dimensions: 7\n",
      "fork\n",
      "11 x 28 16 x 28\n",
      "1 dimensions: 7\n",
      "dupl\n",
      "10 x 28 14 x 28\n",
      "1 dimensions: 8\n",
      "zigzag\n",
      "12 x 28 18 x 28\n",
      "1 dimensions: 6\n",
      "CPU times: user 5min 41s, sys: 2.85 s, total: 5min 43s\n",
      "Wall time: 1min 25s\n"
     ]
    }
   ],
   "source": [
    "%%time\n",
    "\n",
    "for name, g in ALL_GRAPHS.items():\n",
    "    \n",
    "    print(name)\n",
    "    I = find_stable_sets(g)\n",
    "    A, var_matr, num_params = build_triple_equalities(I, g.shape[0])\n",
    "    \n",
    "    chain_starts = []\n",
    "    for i, addA in enumerate(build_variance_equalities_iterator(I, var_matr, num_params, only_nonequivalent=True)):\n",
    "        get_new_starts(chain_starts, [i, *get_rank_and_nullspace(np.array(A + addA[0], dtype=np.float64))])\n",
    "    \n",
    "    print(\"{} x {}\".format(len(A), len(A[0])), \"{} x {}\".format(len(addA[0]), len(addA[0][0])))\n",
    "    print(len(chain_starts), \"dimensions:\", \",\".join([str(len(x[2][0])) for x in chain_starts]))"
   ]
  },
  {
   "cell_type": "code",
   "execution_count": null,
   "metadata": {
    "collapsed": true
   },
   "outputs": [],
   "source": [
    "## no aplas optimizations\n",
    "\n",
    "# online (stupid): 1min 32s\n",
    "# offline: 1min 18s\n",
    "# online (smarter): 1min 25s \n",
    "\n",
    "# mkl is used, 4 cores\n",
    "\n",
    "## limitting number of cores\n",
    "\n",
    "#os.environ[\"MKL_NUM_THREADS\"] = \"1\" \n",
    "#os.environ[\"NUMEXPR_NUM_THREADS\"] = \"1\" \n",
    "#os.environ[\"OMP_NUM_THREADS\"] = \"1\" \n",
    "\n",
    "# online (stupid): 1min 33s\n",
    "# offline: 1min 20s\n",
    "# online (smarter): 1min 26s"
   ]
  },
  {
   "cell_type": "code",
   "execution_count": 181,
   "metadata": {
    "collapsed": false,
    "scrolled": false
   },
   "outputs": [
    {
     "data": {
      "text/plain": [
       "1"
      ]
     },
     "execution_count": 181,
     "metadata": {},
     "output_type": "execute_result"
    }
   ],
   "source": [
    "len(find_chain_starts(res))"
   ]
  }
 ],
 "metadata": {
  "kernelspec": {
   "display_name": "Python 3",
   "language": "python",
   "name": "python3"
  },
  "language_info": {
   "codemirror_mode": {
    "name": "ipython",
    "version": 3
   },
   "file_extension": ".py",
   "mimetype": "text/x-python",
   "name": "python",
   "nbconvert_exporter": "python",
   "pygments_lexer": "ipython3",
   "version": "3.5.4"
  }
 },
 "nbformat": 4,
 "nbformat_minor": 5
}
