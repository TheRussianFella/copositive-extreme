{
 "cells": [
  {
   "cell_type": "markdown",
   "metadata": {},
   "source": [
    "# Graph matrix subspace checking"
   ]
  },
  {
   "cell_type": "code",
   "execution_count": 1,
   "metadata": {
    "collapsed": true
   },
   "outputs": [],
   "source": [
    "#import os\n",
    "#os.environ[\"MKL_NUM_THREADS\"] = \"4\" \n",
    "#os.environ[\"NUMEXPR_NUM_THREADS\"] = \"4\" \n",
    "#os.environ[\"OMP_NUM_THREADS\"] = \"4\" "
   ]
  },
  {
   "cell_type": "markdown",
   "metadata": {},
   "source": [
    "### 1. First results"
   ]
  },
  {
   "cell_type": "code",
   "execution_count": 1,
   "metadata": {},
   "outputs": [],
   "source": [
    "from tqdm import tqdm \n",
    "import numpy as np\n",
    "import scipy as sp\n",
    "import os\n",
    "import datetime\n",
    "from pprint import pprint\n",
    "\n",
    "from graph_utils import *"
   ]
  },
  {
   "cell_type": "code",
   "execution_count": 77,
   "metadata": {},
   "outputs": [],
   "source": [
    "def get_rank_and_nullspace(A, get_cutoff_dif=False, verbose=False):\n",
    "    \n",
    "    _, v, d = sp.linalg.svd(A, lapack_driver=\"gesdd\")\n",
    "        \n",
    "    # такой выбор толеранса используется в матлабе и в нампае\n",
    "    # https://numpy.org/doc/stable/reference/generated/numpy.linalg.matrix_rank.html\n",
    "    tol = v.max() * max(A.shape) * np.finfo(A.dtype).eps\n",
    "    nnz = (v >= tol).sum()\n",
    "    \n",
    "    if verbose:\n",
    "        print(\"eigen vals:\", d)\n",
    "        print(\"cutoff:\", d[nnz])\n",
    "    \n",
    "    if get_cutoff_dif == False:\n",
    "        return nnz, d[nnz:].T"
   ]
  },
  {
   "cell_type": "code",
   "execution_count": 43,
   "metadata": {},
   "outputs": [],
   "source": [
    "def a_is_subspace_of_b(basis_a, basis_b, get_cutoff=False):\n",
    "    \n",
    "    orig_rank, _ = get_rank_and_nullspace(basis_b)\n",
    "    combined_rank, _ = get_rank_and_nullspace(np.hstack([basis_a, basis_b]))\n",
    "    \n",
    "    return orig_rank == combined_rank"
   ]
  },
  {
   "cell_type": "code",
   "execution_count": 44,
   "metadata": {},
   "outputs": [],
   "source": [
    "def find_chain_starts(basis_set):\n",
    "    \n",
    "    # Sort by the dimensionality of subspaces\n",
    "    basis_set = sorted(basis_set, key=lambda x: x[1])\n",
    "    chain_starts = [basis_set[0]]\n",
    "    \n",
    "    # Go over basis sets and check whether their spaces are subspaces of some of chain_starts spaces\n",
    "    for i in range(1, len(basis_set)):\n",
    "        \n",
    "        not_a_subspace = True\n",
    "        \n",
    "        for start in chain_starts:\n",
    "            if a_is_subspace_of_b(basis_set[i][2], start[2]):\n",
    "                not_a_subspace = False\n",
    "                break\n",
    "        \n",
    "        if not_a_subspace:\n",
    "            chain_starts.append(basis_set[i])\n",
    "    \n",
    "    return chain_starts"
   ]
  },
  {
   "cell_type": "code",
   "execution_count": 45,
   "metadata": {},
   "outputs": [],
   "source": [
    "# Function for an online version of an algorithm\n",
    "# chain_starts are supposed to be sorted by x[1]\n",
    "\n",
    "def get_new_starts(chain_starts, new_basis):\n",
    "    \n",
    "    if len(chain_starts) == 0:\n",
    "        chain_starts.append(new_basis)\n",
    "        return\n",
    "    \n",
    "    checked_pos = 0\n",
    "    \n",
    "    # check if we are embedded in some space\n",
    "    while checked_pos < len(chain_starts) and len(chain_starts[checked_pos][2][0]) >= len(new_basis[2][0]):\n",
    "        if a_is_subspace_of_b(new_basis[2], chain_starts[checked_pos][2]):\n",
    "            return\n",
    "        checked_pos += 1\n",
    "    \n",
    "    # new basis is not embedded anywhere therefore we insert it\n",
    "    chain_starts.insert(checked_pos, new_basis)\n",
    "    checked_pos += 1\n",
    "    \n",
    "    # now we delete subspaces, that are embedded into a new one\n",
    "    while checked_pos < len(chain_starts):\n",
    "        if a_is_subspace_of_b(chain_starts[checked_pos][2], new_basis[2]):\n",
    "            chain_starts.pop(checked_pos)\n",
    "        else:\n",
    "            checked_pos += 1"
   ]
  },
  {
   "cell_type": "code",
   "execution_count": 11,
   "metadata": {},
   "outputs": [],
   "source": [
    "ALL_GRAPHS = get_graphs()\n",
    "del ALL_GRAPHS['cycle']\n",
    "\n",
    "# ALL_GRAPHS = {x: ALL_GRAPHS[x] for x in ['center', 'sinking_ship']}\n",
    "# что-то в center баг какой-то 'sinking_ship'"
   ]
  },
  {
   "cell_type": "code",
   "execution_count": null,
   "metadata": {
    "scrolled": false
   },
   "outputs": [],
   "source": [
    "%%time\n",
    "\n",
    "NON_EQUIV = True\n",
    "\n",
    "for name, g in ALL_GRAPHS.items():\n",
    "    \n",
    "    print(name)\n",
    "    I = find_stable_sets(g)\n",
    "    A, var_matr, num_params = build_triple_equalities(I, g.shape[0])\n",
    "    \n",
    "    num_combs = total_num_of_combinations(I, var_matr, num_params, only_nonequivalent=NON_EQUIV)\n",
    "    \n",
    "    chain_starts = []\n",
    "    \n",
    "    for i, (addA, addB, opening) in tqdm(enumerate(build_variance_equalities_iterator(\n",
    "            I, var_matr, num_params, only_nonequivalent=NON_EQUIV)), total=num_combs):\n",
    "        rank, null_basis = get_rank_and_nullspace(np.array(A + addA, dtype=np.float64))\n",
    "        if len(null_basis) != 0:\n",
    "            get_new_starts(chain_starts, [i, rank, null_basis, opening])\n",
    "    \n",
    "    print(\"{} x {}\".format(len(A), len(A[0])), \"{} x {}\".format(len(addA), len(addA[0])))\n",
    "    print(len(chain_starts), \"dimensions:\", \",\".join([str(len(x[2][0])) for x in chain_starts]))\n",
    "    \n",
    "    print(\"openings:\")\n",
    "    for x in chain_starts: \n",
    "        pprint(x[-1])"
   ]
  },
  {
   "cell_type": "markdown",
   "metadata": {},
   "source": [
    "### 2. Speed optimizations"
   ]
  },
  {
   "cell_type": "code",
   "execution_count": 7,
   "metadata": {},
   "outputs": [],
   "source": [
    "ALL_GRAPHS = {'dupl': ALL_GRAPHS['dupl'], 'zigzag': ALL_GRAPHS['zigzag'], 'fork': ALL_GRAPHS['fork'], \n",
    "              'big_triag': ALL_GRAPHS['big_triag'], 'big_zig': ALL_GRAPHS['big_zig']}"
   ]
  },
  {
   "cell_type": "code",
   "execution_count": 8,
   "metadata": {
    "collapsed": true
   },
   "outputs": [],
   "source": [
    "# storm has multiple bases\n",
    "# ship stil doesn't cut it.. we'll have to try more cores\n",
    "\n",
    "# if you simply switch lapack driver to gesvd - results don't change but it takes twice longer"
   ]
  },
  {
   "cell_type": "code",
   "execution_count": null,
   "metadata": {
    "scrolled": true
   },
   "outputs": [],
   "source": [
    "%%time\n",
    "\n",
    "for name, g in ALL_GRAPHS.items():\n",
    "\n",
    "    print(name)\n",
    "    I = find_stable_sets(g)\n",
    "    A, var_matr, num_params = build_triple_equalities(I, g.shape[0])\n",
    "\n",
    "    basis_set = []\n",
    "    for i, addA in enumerate(build_variance_equalities_iterator(I, var_matr, num_params, only_nonequivalent=True)):\n",
    "        basis_set.append([i, *get_rank_and_nullspace(np.array(A + addA[0], dtype=np.float64))])\n",
    "\n",
    "    chain_starts = find_chain_starts(basis_set)\n",
    "\n",
    "    print(\"{} x {}\".format(len(A), len(A[0])), \"{} x {}\".format(len(addA[0]), len(addA[0][0])))\n",
    "    print(len(chain_starts), \"dimensions:\", \",\".join([str(len(x[2][0])) for x in chain_starts]))"
   ]
  },
  {
   "cell_type": "code",
   "execution_count": 9,
   "metadata": {
    "scrolled": true
   },
   "outputs": [
    {
     "name": "stdout",
     "output_type": "stream",
     "text": [
      "storm\n",
      "19 x 45 35 x 45\n",
      "2 dimensions: 7,7\n",
      "CPU times: user 12min 5s, sys: 9.58 s, total: 12min 15s\n",
      "Wall time: 3min 3s\n"
     ]
    }
   ],
   "source": [
    "%%time\n",
    "# it has been 2min29sec\n",
    "# with 8 cores it's 2min58sec\n",
    "# with 4 cores it's 3min3sec\n",
    "\n",
    "for name, g in ALL_GRAPHS.items():\n",
    "    \n",
    "    print(name)\n",
    "    I = find_stable_sets(g)\n",
    "    A, var_matr, num_params = build_triple_equalities(I, g.shape[0])\n",
    "    \n",
    "    chain_starts = []\n",
    "    for i, addA in enumerate(build_variance_equalities_iterator(I, var_matr, num_params, only_nonequivalent=True)):\n",
    "        chain_starts.append([i, *get_rank_and_nullspace(np.array(A + addA[0], dtype=np.float64))])\n",
    "        chain_starts = find_chain_starts(chain_starts)\n",
    "    \n",
    "    print(\"{} x {}\".format(len(A), len(A[0])), \"{} x {}\".format(len(addA[0]), len(addA[0][0])))\n",
    "    print(len(chain_starts), \"dimensions:\", \",\".join([str(len(x[2][0])) for x in chain_starts]))"
   ]
  },
  {
   "cell_type": "code",
   "execution_count": 12,
   "metadata": {
    "scrolled": false
   },
   "outputs": [
    {
     "name": "stdout",
     "output_type": "stream",
     "text": [
      "storm\n",
      "19 x 45 35 x 45\n",
      "2 dimensions: 7,7\n",
      "CPU times: user 17min 15s, sys: 16.3 s, total: 17min 32s\n",
      "Wall time: 2min 11s\n"
     ]
    }
   ],
   "source": [
    "%%time\n",
    "\n",
    "maxdif = 1e-19\n",
    "\n",
    "for name, g in ALL_GRAPHS.items():\n",
    "    \n",
    "    print(name)\n",
    "    I = find_stable_sets(g)\n",
    "    A, var_matr, num_params = build_triple_equalities(I, g.shape[0])\n",
    "    \n",
    "    chain_starts = []\n",
    "    for i, addA in enumerate(build_variance_equalities_iterator(I, var_matr, num_params, only_nonequivalent=True)):\n",
    "        \n",
    "        matrix = np.array(A + addA[0], dtype=np.float64)\n",
    "        _, v, d = sp.linalg.svd(matrix, lapack_driver=\"gesdd\")\n",
    "        tol = v.max() * max(matrix.shape) * np.finfo(matrix.dtype).eps\n",
    "        nnz = (v >= tol).sum()\n",
    "        \n",
    "        if nnz < len(v):\n",
    "            maxdif = max(v[nnz] / v[nnz-1], maxdif)\n",
    "            \n",
    "        get_new_starts(chain_starts, [i, nnz, d[nnz:].T])\n",
    "    \n",
    "    print(\"{} x {}\".format(len(A), len(A[0])), \"{} x {}\".format(len(addA[0]), len(addA[0][0])))\n",
    "    print(len(chain_starts), \"dimensions:\", \",\".join([str(len(x[2][0])) for x in chain_starts]))"
   ]
  },
  {
   "cell_type": "markdown",
   "metadata": {
    "collapsed": true
   },
   "source": [
    "#### no aplas optimizations\n",
    "\n",
    "mkl is used, 4 cores\n",
    "\n",
    "online (stupid): 1min 32s\n",
    "offline: 1min 18s\n",
    "online (smarter): 1min 25s \n",
    "\n",
    "#### limitting number of cores\n",
    "\n",
    "#os.environ[\"MKL_NUM_THREADS\"] = \"1\" \n",
    "#os.environ[\"NUMEXPR_NUM_THREADS\"] = \"1\" \n",
    "#os.environ[\"OMP_NUM_THREADS\"] = \"1\" \n",
    "\n",
    "online (stupid): 1min 33s\n",
    "offline: 1min 20s\n",
    "online (smarter): 1min 26s\n",
    "\n",
    "#### mkl on 8 cores - same result\n",
    "\n",
    "**so online version isn't much slower and number of cores doesn't affect the results much**"
   ]
  },
  {
   "cell_type": "markdown",
   "metadata": {},
   "source": [
    "### 3. Storm analysis"
   ]
  },
  {
   "cell_type": "code",
   "execution_count": 27,
   "metadata": {},
   "outputs": [],
   "source": [
    "g = ALL_GRAPHS['storm']\n",
    "I = find_stable_sets(g)\n",
    "A, var_matr, num_params = build_triple_equalities(I, g.shape[0])"
   ]
  },
  {
   "cell_type": "markdown",
   "metadata": {},
   "source": [
    "А он правильно задан?"
   ]
  },
  {
   "cell_type": "code",
   "execution_count": 28,
   "metadata": {},
   "outputs": [
    {
     "data": {
      "text/plain": [
       "True"
      ]
     },
     "execution_count": 28,
     "metadata": {},
     "output_type": "execute_result"
    }
   ],
   "source": [
    "is_copirr(g)"
   ]
  },
  {
   "cell_type": "markdown",
   "metadata": {
    "scrolled": false
   },
   "source": [
    "Судя по обсуждениям в интернете - могут быть проблемы при применении gesdd на плохо обсуловленных матрицах - поэтому все эксперименты будем пробовать и с gesdd и gesvd "
   ]
  },
  {
   "cell_type": "markdown",
   "metadata": {},
   "source": [
    "Смотрим на максимальное соотношение между первым отрезанным и неотрезанным с.ч. и минимальное между неотрезанными с.ч. в определении подпространств "
   ]
  },
  {
   "cell_type": "code",
   "execution_count": 60,
   "metadata": {},
   "outputs": [
    {
     "name": "stderr",
     "output_type": "stream",
     "text": [
      "100%|██████████| 131072/131072 [01:27<00:00, 1493.97it/s]"
     ]
    },
    {
     "name": "stdout",
     "output_type": "stream",
     "text": [
      "1.619397193511745e-14 36.66232538729725\n"
     ]
    },
    {
     "name": "stderr",
     "output_type": "stream",
     "text": [
      "\n"
     ]
    }
   ],
   "source": [
    "max_cut_dif  = 1e-19\n",
    "max_real_dif = 1e-19\n",
    "min_rank = 1e3\n",
    "\n",
    "total_num = total_num_of_combinations(I, var_matr, num_params, only_nonequivalent=True)\n",
    "\n",
    "for addA, addB, opening in tqdm(\n",
    "    build_variance_equalities_iterator(I, var_matr, num_params, only_nonequivalent=True), total=total_num\n",
    "):\n",
    "\n",
    "    matrix = np.array(A + addA, dtype=np.float64)\n",
    "    _, v, d = sp.linalg.svd(matrix, lapack_driver=\"gesdd\")\n",
    "    tol = v.max() * max(matrix.shape) * np.finfo(matrix.dtype).eps\n",
    "    nnz = (v >= tol).sum()\n",
    "        \n",
    "    if nnz < len(v):\n",
    "        max_cut_dif = max(v[nnz] / v[nnz-1], max_cut_dif)\n",
    "        max_real_dif = max(v[0] / v[nnz-1], max_real_dif)\n",
    "        min_rank = min(nnz, min_rank)\n",
    "        \n",
    "print(max_cut_dif, max_real_dif)"
   ]
  },
  {
   "cell_type": "code",
   "execution_count": 62,
   "metadata": {},
   "outputs": [
    {
     "data": {
      "text/plain": [
       "7"
      ]
     },
     "execution_count": 62,
     "metadata": {},
     "output_type": "execute_result"
    }
   ],
   "source": [
    "len(A[0])-min_rank"
   ]
  },
  {
   "cell_type": "code",
   "execution_count": 59,
   "metadata": {},
   "outputs": [
    {
     "name": "stderr",
     "output_type": "stream",
     "text": [
      "\n",
      "  0%|          | 0/131072 [00:00<?, ?it/s]\u001b[A\n",
      "  0%|          | 50/131072 [00:00<04:25, 492.61it/s]\u001b[A\n",
      "  0%|          | 101/131072 [00:00<04:25, 494.21it/s]\u001b[A\n",
      "  0%|          | 151/131072 [00:00<04:24, 494.46it/s]\u001b[A\n",
      "  0%|          | 200/131072 [00:00<04:25, 492.72it/s]\u001b[A\n",
      "  0%|          | 250/131072 [00:00<04:25, 492.68it/s]\u001b[A\n",
      "  0%|          | 300/131072 [00:00<04:24, 493.65it/s]\u001b[A\n",
      "  0%|          | 350/131072 [00:00<04:25, 492.97it/s]\u001b[A\n",
      "  0%|          | 400/131072 [00:00<04:24, 494.06it/s]\u001b[A\n",
      "  0%|          | 450/131072 [00:00<04:23, 495.26it/s]\u001b[A\n",
      "  0%|          | 500/131072 [00:01<04:23, 495.67it/s]\u001b[A\n",
      "  0%|          | 551/131072 [00:01<04:22, 496.73it/s]\u001b[A\n",
      "  0%|          | 602/131072 [00:01<04:21, 498.34it/s]\u001b[A\n",
      "  0%|          | 652/131072 [00:01<04:22, 497.14it/s]\u001b[A\n",
      "  1%|          | 702/131072 [00:01<04:22, 496.54it/s]\u001b[A\n",
      "  1%|          | 752/131072 [00:01<04:22, 496.02it/s]\u001b[A\n",
      "  1%|          | 802/131072 [00:01<04:22, 495.85it/s]\u001b[A\n",
      "100%|██████████| 131072/131072 [04:23<00:00, 497.56it/s]"
     ]
    },
    {
     "name": "stdout",
     "output_type": "stream",
     "text": [
      "5.682405378060707e-15 36.662325387297344\n"
     ]
    },
    {
     "name": "stderr",
     "output_type": "stream",
     "text": [
      "\n"
     ]
    }
   ],
   "source": [
    "max_cut_dif  = 1e-19\n",
    "max_real_dif = 1e-19\n",
    "\n",
    "total_num = total_num_of_combinations(I, var_matr, num_params, only_nonequivalent=True)\n",
    "\n",
    "for addA, addB, opening in tqdm(\n",
    "    build_variance_equalities_iterator(I, var_matr, num_params, only_nonequivalent=True), total=total_num\n",
    "):\n",
    "\n",
    "    matrix = np.array(A + addA, dtype=np.float64)\n",
    "    _, v, d = sp.linalg.svd(matrix, lapack_driver=\"gesvd\")\n",
    "    tol = v.max() * max(matrix.shape) * np.finfo(matrix.dtype).eps\n",
    "    nnz = (v >= tol).sum()\n",
    "        \n",
    "    if nnz < len(v):\n",
    "        max_cut_dif = max(v[nnz] / v[nnz-1], max_cut_dif)\n",
    "        max_real_dif = max(v[0] / v[nnz-1], max_real_dif)\n",
    "            \n",
    "print(max_cut_dif, max_real_dif)"
   ]
  },
  {
   "cell_type": "markdown",
   "metadata": {},
   "source": [
    "Проверим, найдётся ли среди отфильтрованных нами пространств 8-мерное"
   ]
  },
  {
   "cell_type": "code",
   "execution_count": 49,
   "metadata": {
    "scrolled": true
   },
   "outputs": [
    {
     "name": "stderr",
     "output_type": "stream",
     "text": [
      "  0%|          | 83446/34359738368 [00:35<4046:52:39, 2358.45it/s]"
     ]
    },
    {
     "ename": "KeyboardInterrupt",
     "evalue": "",
     "output_type": "error",
     "traceback": [
      "\u001b[1;31m---------------------------------------------------------------------------\u001b[0m",
      "\u001b[1;31mKeyboardInterrupt\u001b[0m                         Traceback (most recent call last)",
      "\u001b[1;32m<ipython-input-49-ebd7ccdc84a8>\u001b[0m in \u001b[0;36m<module>\u001b[1;34m()\u001b[0m\n\u001b[0;32m      7\u001b[0m ):\n\u001b[0;32m      8\u001b[0m \u001b[1;33m\u001b[0m\u001b[0m\n\u001b[1;32m----> 9\u001b[1;33m     \u001b[0mmatrix\u001b[0m \u001b[1;33m=\u001b[0m \u001b[0mnp\u001b[0m\u001b[1;33m.\u001b[0m\u001b[0marray\u001b[0m\u001b[1;33m(\u001b[0m\u001b[0mA\u001b[0m \u001b[1;33m+\u001b[0m \u001b[0maddA\u001b[0m\u001b[1;33m,\u001b[0m \u001b[0mdtype\u001b[0m\u001b[1;33m=\u001b[0m\u001b[0mnp\u001b[0m\u001b[1;33m.\u001b[0m\u001b[0mfloat64\u001b[0m\u001b[1;33m)\u001b[0m\u001b[1;33m\u001b[0m\u001b[0m\n\u001b[0m\u001b[0;32m     10\u001b[0m     \u001b[0mv\u001b[0m \u001b[1;33m=\u001b[0m \u001b[0msp\u001b[0m\u001b[1;33m.\u001b[0m\u001b[0mlinalg\u001b[0m\u001b[1;33m.\u001b[0m\u001b[0msvd\u001b[0m\u001b[1;33m(\u001b[0m\u001b[0mmatrix\u001b[0m\u001b[1;33m,\u001b[0m \u001b[0mlapack_driver\u001b[0m\u001b[1;33m=\u001b[0m\u001b[1;34m\"gesdd\"\u001b[0m\u001b[1;33m,\u001b[0m \u001b[0mcompute_uv\u001b[0m\u001b[1;33m=\u001b[0m\u001b[1;32mFalse\u001b[0m\u001b[1;33m)\u001b[0m\u001b[1;33m\u001b[0m\u001b[0m\n\u001b[0;32m     11\u001b[0m     \u001b[0mtol\u001b[0m \u001b[1;33m=\u001b[0m \u001b[0mv\u001b[0m\u001b[1;33m.\u001b[0m\u001b[0mmax\u001b[0m\u001b[1;33m(\u001b[0m\u001b[1;33m)\u001b[0m \u001b[1;33m*\u001b[0m \u001b[0mmax\u001b[0m\u001b[1;33m(\u001b[0m\u001b[0mmatrix\u001b[0m\u001b[1;33m.\u001b[0m\u001b[0mshape\u001b[0m\u001b[1;33m)\u001b[0m \u001b[1;33m*\u001b[0m \u001b[0mnp\u001b[0m\u001b[1;33m.\u001b[0m\u001b[0mfinfo\u001b[0m\u001b[1;33m(\u001b[0m\u001b[0mmatrix\u001b[0m\u001b[1;33m.\u001b[0m\u001b[0mdtype\u001b[0m\u001b[1;33m)\u001b[0m\u001b[1;33m.\u001b[0m\u001b[0meps\u001b[0m\u001b[1;33m\u001b[0m\u001b[0m\n",
      "\u001b[1;31mKeyboardInterrupt\u001b[0m: "
     ]
    }
   ],
   "source": [
    "min_rank = 1e3\n",
    "\n",
    "total_num = total_num_of_combinations(I, var_matr, num_params, only_nonequivalent=False)\n",
    "\n",
    "for addA, addB, opening in tqdm(\n",
    "    build_variance_equalities_iterator(I, var_matr, num_params, only_nonequivalent=False), total=total_num\n",
    "):\n",
    "\n",
    "    matrix = np.array(A + addA, dtype=np.float64)\n",
    "    v = sp.linalg.svd(matrix, lapack_driver=\"gesdd\", compute_uv=False)\n",
    "    tol = v.max() * max(matrix.shape) * np.finfo(matrix.dtype).eps\n",
    "    nnz = (v >= tol).sum()\n",
    "    min_rank = min(nnz, min_rank)"
   ]
  },
  {
   "cell_type": "markdown",
   "metadata": {},
   "source": [
    "Ну, этого нам не проверить"
   ]
  },
  {
   "cell_type": "markdown",
   "metadata": {},
   "source": [
    "#### Проверим на коположительность матрицы из этих подпространств и из их объединения"
   ]
  },
  {
   "cell_type": "code",
   "execution_count": 12,
   "metadata": {},
   "outputs": [],
   "source": [
    "ALL_GRAPHS = get_graphs()"
   ]
  },
  {
   "cell_type": "code",
   "execution_count": 13,
   "metadata": {},
   "outputs": [],
   "source": [
    "import scipy.io"
   ]
  },
  {
   "cell_type": "markdown",
   "metadata": {},
   "source": [
    "#### 1. Сначала попробуем для с7"
   ]
  },
  {
   "cell_type": "code",
   "execution_count": 18,
   "metadata": {},
   "outputs": [],
   "source": [
    "g = ALL_GRAPHS['cycle']\n",
    "I = find_stable_sets(g)\n",
    "A, var_matr, num_params = build_triple_equalities(I, g.shape[0])"
   ]
  },
  {
   "cell_type": "code",
   "execution_count": 14,
   "metadata": {},
   "outputs": [],
   "source": [
    "def get_center_point(g, var_matr):\n",
    "    \n",
    "    I = find_stable_sets(g)\n",
    "    \n",
    "    point = np.ones(int(len(g) * (len(g)-1) / 2)) * 1/3\n",
    "    \n",
    "    for x in range(len(I)):\n",
    "        for y in range(x+1, len(I)):\n",
    "            if len(I[x].intersection(I[y])) == 2:\n",
    "                inter = I[x].intersection(I[y])\n",
    "                i = I[x].difference(I[y]).pop()\n",
    "                j = inter.pop()\n",
    "                k = inter.pop()\n",
    "                l = I[y].difference(I[x]).pop()\n",
    "\n",
    "                point[var_matr[i,l]] = 1\n",
    "    \n",
    "    return point"
   ]
  },
  {
   "cell_type": "code",
   "execution_count": 15,
   "metadata": {},
   "outputs": [],
   "source": [
    "def get_matrix_at_point(var_matr, point):\n",
    "    \n",
    "    matrix = np.ones(var_matr.shape)\n",
    "    \n",
    "    for i in range(0, var_matr.shape[0]):\n",
    "        for j in range(i+1, var_matr.shape[0]):\n",
    "            matrix[i,j] = matrix[j,i] = -np.cos(np.pi * point[var_matr[i, j]]) \n",
    "    \n",
    "    return matrix"
   ]
  },
  {
   "cell_type": "code",
   "execution_count": 16,
   "metadata": {},
   "outputs": [],
   "source": [
    "def check_lem6(var_matr, I, point):\n",
    "    \n",
    "    matrix = get_matrix_at_point(var_matr, point)\n",
    "    min_val = 0\n",
    "    \n",
    "    for (i, j, k) in I:\n",
    "        u = [\n",
    "            np.sin(np.pi * point[var_matr[j,k]]), \n",
    "            np.sin(np.pi * point[var_matr[i,k]]), \n",
    "            np.sin(np.pi * point[var_matr[i,j]])\n",
    "        ]\n",
    "        for row in matrix:\n",
    "            new_val = row[i]*u[0] + row[j]*u[1] + row[k]*u[2]\n",
    "            if new_val < min_val:\n",
    "                min_val = new_val\n",
    "                \n",
    "    return min_val"
   ]
  },
  {
   "cell_type": "code",
   "execution_count": 19,
   "metadata": {},
   "outputs": [
    {
     "data": {
      "text/plain": [
       "array([[ 1. , -0.5, -0.5,  1. ,  1. , -0.5, -0.5],\n",
       "       [-0.5,  1. , -0.5, -0.5,  1. ,  1. , -0.5],\n",
       "       [-0.5, -0.5,  1. , -0.5, -0.5,  1. ,  1. ],\n",
       "       [ 1. , -0.5, -0.5,  1. , -0.5, -0.5,  1. ],\n",
       "       [ 1. ,  1. , -0.5, -0.5,  1. , -0.5, -0.5],\n",
       "       [-0.5,  1. ,  1. , -0.5, -0.5,  1. , -0.5],\n",
       "       [-0.5, -0.5,  1. ,  1. , -0.5, -0.5,  1. ]])"
      ]
     },
     "execution_count": 19,
     "metadata": {},
     "output_type": "execute_result"
    }
   ],
   "source": [
    "center = get_center_point(g, var_matr)\n",
    "get_matrix_at_point(var_matr, center)"
   ]
  },
  {
   "cell_type": "code",
   "execution_count": 20,
   "metadata": {},
   "outputs": [
    {
     "data": {
      "text/plain": [
       "-2.220446049250313e-16"
      ]
     },
     "execution_count": 20,
     "metadata": {},
     "output_type": "execute_result"
    }
   ],
   "source": [
    "check_lem6(var_matr, I, center)"
   ]
  },
  {
   "cell_type": "markdown",
   "metadata": {},
   "source": [
    "Это меньше машинного эпсилона, так что всё выполнено."
   ]
  },
  {
   "cell_type": "markdown",
   "metadata": {},
   "source": [
    "Загоняем матрицу в матлабовсий код -> получаем коположительность.  \n",
    "Теперь пройдёмся по окрестности, для этого сгенерируем случайное направление, лежащее в подпространстве, удовлетворяющем леммам 3 и 4 (генерируем в нём случайную матрицу и вычитаем из центральной) и прибавляем его к центральной матрице с каким-то небольшим коэффициентом.  "
   ]
  },
  {
   "cell_type": "markdown",
   "metadata": {},
   "source": [
    "Новую матрицу надо выбрать так, чтобы хотя бы лемма 6 выполнялась."
   ]
  },
  {
   "cell_type": "code",
   "execution_count": 64,
   "metadata": {},
   "outputs": [],
   "source": [
    " for i, (addA, addB, opening) in enumerate(build_variance_equalities_iterator(\n",
    "            I, var_matr, num_params, only_nonequivalent=True)):\n",
    "        rank, null_basis = get_rank_and_nullspace(np.array(A + addA, dtype=np.float64))\n",
    "        break"
   ]
  },
  {
   "cell_type": "code",
   "execution_count": 68,
   "metadata": {},
   "outputs": [
    {
     "ename": "ValueError",
     "evalue": "matmul: Input operand 1 has a mismatch in its core dimension 0, with gufunc signature (n?,k),(k,m?)->(n?,m?) (size 54 is different from 1)",
     "output_type": "error",
     "traceback": [
      "\u001b[0;31m---------------------------------------------------------------------------\u001b[0m",
      "\u001b[0;31mValueError\u001b[0m                                Traceback (most recent call last)",
      "\u001b[0;32m<ipython-input-68-1c5651cfe3c5>\u001b[0m in \u001b[0;36m<module>\u001b[0;34m()\u001b[0m\n\u001b[0;32m----> 1\u001b[0;31m \u001b[0mnull_basis\u001b[0m \u001b[0;34m@\u001b[0m \u001b[0mnp\u001b[0m\u001b[0;34m.\u001b[0m\u001b[0marray\u001b[0m\u001b[0;34m(\u001b[0m\u001b[0mA\u001b[0m \u001b[0;34m+\u001b[0m \u001b[0maddA\u001b[0m\u001b[0;34m)\u001b[0m\u001b[0;34m\u001b[0m\u001b[0;34m\u001b[0m\u001b[0m\n\u001b[0m",
      "\u001b[0;31mValueError\u001b[0m: matmul: Input operand 1 has a mismatch in its core dimension 0, with gufunc signature (n?,k),(k,m?)->(n?,m?) (size 54 is different from 1)"
     ]
    }
   ],
   "source": [
    "np.array(A + addA) "
   ]
  },
  {
   "cell_type": "code",
   "execution_count": 25,
   "metadata": {},
   "outputs": [],
   "source": [
    "totalA = np.array(A + addA, dtype=np.float64)"
   ]
  },
  {
   "cell_type": "code",
   "execution_count": 21,
   "metadata": {},
   "outputs": [],
   "source": [
    "def get_random_direction(basis):\n",
    "    coords = np.random.randn(basis.shape[1])\n",
    "    r_point = basis @ coords \n",
    "    #return (r_point - center) / np.linalg.norm(r_point - center)\n",
    "    return r_point / np.linalg.norm(r_point)"
   ]
  },
  {
   "cell_type": "code",
   "execution_count": 27,
   "metadata": {
    "scrolled": false
   },
   "outputs": [
    {
     "name": "stdout",
     "output_type": "stream",
     "text": [
      "-4.440892098500626e-16\n",
      "-2.7755575615628914e-16\n",
      "-2.220446049250313e-16\n"
     ]
    }
   ],
   "source": [
    "max_val = -1e10\n",
    "step = 1e-4\n",
    "\n",
    "_, basis = get_rank_and_nullspace(totalA)\n",
    "\n",
    "direction = get_random_direction(basis)\n",
    "\n",
    "while check_lem6(var_matr, I, center + step * direction) < -np.finfo(np.float64).eps:\n",
    "    direction = get_random_direction(basis)\n",
    "    if check_lem6(var_matr, I, center + step * direction) > max_val:\n",
    "        max_val = check_lem6(var_matr, I, center + step * direction)\n",
    "        print(max_val)"
   ]
  },
  {
   "cell_type": "markdown",
   "metadata": {},
   "source": [
    "#### Означает ли это, что мы лежим супер близко с границей Au > 0?"
   ]
  },
  {
   "cell_type": "code",
   "execution_count": 31,
   "metadata": {},
   "outputs": [],
   "source": [
    "direction = get_random_direction(basis)\n",
    "point = center + 0.1 * direction\n",
    "s=get_matrix_at_point(var_matr, point)"
   ]
  },
  {
   "cell_type": "code",
   "execution_count": 32,
   "metadata": {},
   "outputs": [
    {
     "data": {
      "text/plain": [
       "array([[ 1.        , -0.43320848, -0.4482434 ,  0.99697857,  0.99808212,\n",
       "        -0.47039633, -0.52266758],\n",
       "       [-0.43320848,  1.        , -0.61149404, -0.50190949,  0.99984917,\n",
       "         0.99913109, -0.54196185],\n",
       "       [-0.4482434 , -0.61149404,  1.        , -0.37745257, -0.59765978,\n",
       "         0.99605138,  0.99637458],\n",
       "       [ 0.99697857, -0.50190949, -0.37745257,  1.        , -0.51685531,\n",
       "        -0.45817377,  0.99848018],\n",
       "       [ 0.99808212,  0.99984917, -0.59765978, -0.51685531,  1.        ,\n",
       "        -0.52412156, -0.46888985],\n",
       "       [-0.47039633,  0.99913109,  0.99605138, -0.45817377, -0.52412156,\n",
       "         1.        , -0.50646447],\n",
       "       [-0.52266758, -0.54196185,  0.99637458,  0.99848018, -0.46888985,\n",
       "        -0.50646447,  1.        ]])"
      ]
     },
     "execution_count": 32,
     "metadata": {},
     "output_type": "execute_result"
    }
   ],
   "source": [
    "s"
   ]
  },
  {
   "cell_type": "code",
   "execution_count": 33,
   "metadata": {},
   "outputs": [
    {
     "data": {
      "text/plain": [
       "-2.7755575615628914e-16"
      ]
     },
     "execution_count": 33,
     "metadata": {},
     "output_type": "execute_result"
    }
   ],
   "source": [
    "check_lem6(var_matr, I, point)"
   ]
  },
  {
   "cell_type": "markdown",
   "metadata": {},
   "source": [
    "* На одной и той же матрице код выдавал разные результаты - добавил толеранс в сравнении с нулём. Хотя бы с центральной точкой сработало.\n",
    "* Думал, что проблема в округлении в матлабе - там просто обрезалось число при принте. Надо было прописать format long g\n",
    "* Может выбрать направление получше?"
   ]
  },
  {
   "cell_type": "code",
   "execution_count": 34,
   "metadata": {},
   "outputs": [],
   "source": [
    "scipy.io.savemat('a', {'data':s}, do_compression=False)"
   ]
  },
  {
   "cell_type": "markdown",
   "metadata": {},
   "source": [
    "Для многих направлений даже с небольшим шагом не получается.\n",
    "* Попробовать для упрощённого вида, который мы получали руками\n",
    "* Проверить, что для матриц, которые мы получаем при шаге хотя бы выполняются условия лемм 3, 4 и 6 (шаг точно нужно выбирать такой, чтобы 6 лемма выполнялась)"
   ]
  },
  {
   "cell_type": "markdown",
   "metadata": {},
   "source": [
    "* Получилось для с7 - не получалось из-за того, что я направление неправильно задавал ((r_point - center) / np.linalg.norm(r_point - center))\n",
    "* Лемма 6 сломалась из-за того, что я не отшкалировал углы обратно при подсчёте сертификата"
   ]
  },
  {
   "cell_type": "markdown",
   "metadata": {},
   "source": [
    "#### 2. с7 но явно решённый и с доп условиями"
   ]
  },
  {
   "cell_type": "code",
   "execution_count": 133,
   "metadata": {},
   "outputs": [],
   "source": [
    "from numpy import cos, array\n",
    "\n",
    "def get_simplified_matrix(p):\n",
    "    \n",
    "    return np.array([\n",
    "        [1, -cos(p[0]), cos(p[0]+p[1]), -cos(p[0]+p[1]+p[2]), -cos(p[4]+p[5]+p[6]), cos(p[5]+p[6]), -cos(p[6])],\n",
    "        [-cos(p[0]), 1, -cos(p[1]), cos(p[1]+p[2]), -cos(p[1]+p[2]+p[3]), -cos(p[5]+p[6]+p[0]), cos(p[6]+p[0])],\n",
    "        [cos(p[0]+p[1]), -cos(p[1]), 1, -cos(p[2]), cos(p[2]+p[3]), -cos(p[2]+p[3]+p[4]), -cos(p[0]+p[1]+p[6])],\n",
    "        [-cos(p[0]+p[1]+p[2]), cos(p[1]+p[2]), -cos(p[2]), 1, -cos(p[3]), cos(p[3]+p[4]), -cos(p[3]+p[4]+p[5])],\n",
    "        [-cos(p[4]+p[5]+p[6]), -cos(p[1]+p[2]+p[3]), cos(p[2]+p[3]), -cos(p[3]), 1, -cos(p[4]), cos(p[4]+p[5])],\n",
    "        [cos(p[5]+p[6]), -cos(p[5]+p[6]+p[0]), -cos(p[2]+p[3]+p[4]), cos(p[3]+p[4]), -cos(p[4]), 1, -cos(p[5])],\n",
    "        [-cos(p[6]), cos(p[6]+p[0]),  -cos(p[0]+p[1]+p[6]), -cos(p[3]+p[4]+p[5]), cos(p[4]+p[5]), -cos(p[5]), 1]\n",
    "    ])"
   ]
  },
  {
   "cell_type": "code",
   "execution_count": 129,
   "metadata": {},
   "outputs": [],
   "source": [
    "center = np.ones(7) * np.pi / 3"
   ]
  },
  {
   "cell_type": "code",
   "execution_count": 132,
   "metadata": {},
   "outputs": [
    {
     "data": {
      "text/plain": [
       "array([[ 1. , -0.5, -0.5,  1. ,  1. , -0.5, -0.5],\n",
       "       [-0.5,  1. , -0.5, -0.5,  1. ,  1. , -0.5],\n",
       "       [-0.5, -0.5,  1. , -0.5, -0.5,  1. ,  1. ],\n",
       "       [ 1. , -0.5, -0.5,  1. , -0.5, -0.5,  1. ],\n",
       "       [ 1. ,  1. , -0.5, -0.5,  1. , -0.5, -0.5],\n",
       "       [-0.5,  1. ,  1. , -0.5, -0.5,  1. , -0.5],\n",
       "       [-0.5, -0.5,  1. ,  1. , -0.5, -0.5,  1. ]])"
      ]
     },
     "execution_count": 132,
     "metadata": {},
     "output_type": "execute_result"
    }
   ],
   "source": [
    "get_simplified_matrix(center)"
   ]
  },
  {
   "cell_type": "markdown",
   "metadata": {},
   "source": [
    "Код говорит, что она коположительна."
   ]
  },
  {
   "cell_type": "markdown",
   "metadata": {},
   "source": [
    "**Берём код для генерирования углов из этого множества, который мы использовали раньше**"
   ]
  },
  {
   "cell_type": "code",
   "execution_count": 134,
   "metadata": {},
   "outputs": [],
   "source": [
    "arrays = [array([1.8132337 , 0.7133784 , 1.24228641, 1.08119275, 2.06039991,\n",
    "       1.08119275, 1.22802568]),\n",
    "array([0.09622127, 2.92404257, 0.15690484, 2.12285946, 0.64200562,\n",
    "       0.16953895, 1.34689091]),\n",
    "array([0.10894777, 0.66488034, 2.16113198, 0.42573434, 0.22430197,\n",
    "       0.72638459, 1.58305346]),\n",
    "array([1.00000000e-15, 2.47912546e+00, 6.62467189e-01, 2.47912546e+00,\n",
    "       6.53451004e-01, 1.17165633e-01, 3.02442702e+00]),\n",
    "array([0.00622218, 1.55895093, 0.65362154, 0.17717865, 0.40227136,\n",
    "       0.41735264, 1.91960064]),\n",
    "array([0.35438032, 0.68575076, 2.4558419 , 0.68575076, 0.96654673,\n",
    "       1.86193204, 1.23382903]),\n",
    "array([1.00000000e-15, 7.59130735e-01, 1.13263579e+00, 1.10054730e-01,\n",
    "       8.99968818e-01, 4.90795672e-01, 2.65079698e+00]),\n",
    "array([1.00676967, 1.41438199, 0.46689436, 1.37652027, 1.76507238,\n",
    "       1.37652027, 1.01195225]),\n",
    "array([1.35397235, 1.21730731, 0.570313  , 2.40851029, 0.73308236,\n",
    "       0.66199742, 2.47959523]),\n",
    "array([1.65396582, 0.8478992 , 2.10177085, 0.93435163, 0.14933715,\n",
    "       1.71377453, 1.42781813])]"
   ]
  },
  {
   "cell_type": "code",
   "execution_count": null,
   "metadata": {},
   "outputs": [],
   "source": [
    "s = get_simplified_matrix(arrays[9])\n",
    "\n",
    "scipy.io.savemat('a', {'data':s}, do_compression=False)"
   ]
  },
  {
   "cell_type": "markdown",
   "metadata": {},
   "source": [
    "Для 4, 6, 7, 8 это коположительный матрицы, для остальных - нет."
   ]
  },
  {
   "cell_type": "code",
   "execution_count": 163,
   "metadata": {},
   "outputs": [],
   "source": [
    "arrays=array([array([1.59317582, 0.43959732, 0.45791466, 1.32246291, 1.81912974,\n",
    "       0.60823814, 0.84957669]),\n",
    "array([0.59925339, 1.32309979, 1.81849287, 0.44503116, 1.51425836,\n",
    "       0.89589361, 0.73844345]),\n",
    "array([1.58401055, 1.37131369, 0.18626841, 2.52319093, 0.61840173,\n",
    "       1.57698146, 1.56461119]),\n",
    "array([2.40470309, 0.61696029, 1.32101377, 1.82057888, 1.05863359,\n",
    "       0.8084145 , 1.39447384]),\n",
    "array([0.27863145, 0.48424409, 0.99983325, 2.1417594 , 0.24891867,\n",
    "       0.17828762, 1.90322754]),\n",
    "array([1.61936581, 1.50528048, 1.63631218, 0.94832561, 2.19326704,\n",
    "       0.3661111 , 1.15611574]),\n",
    "array([0.88781097, 1.74207824, 1.39951442, 0.98285695, 2.1587357 ,\n",
    "       0.98285695, 1.27092473]),\n",
    "array([1.00000000e-15, 5.29340484e-01, 2.61225217e+00, 5.29340484e-01,\n",
    "       1.62286426e+00, 7.45832107e-01, 1.16891836e+00]),\n",
    "array([1.00000000e-15, 2.44194997e+00, 6.99642685e-01, 6.48314520e-01,\n",
    "       4.24676043e-01, 1.90532250e+00, 1.23627015e+00]),\n",
    "array([0.22899094, 1.80142582, 1.34016683, 1.80142582, 0.99973642,\n",
    "       0.74821073, 0.28246961])])"
   ]
  },
  {
   "cell_type": "code",
   "execution_count": 173,
   "metadata": {},
   "outputs": [],
   "source": [
    "s = get_simplified_matrix(arrays[9])\n",
    "\n",
    "scipy.io.savemat('a', {'data':s}, do_compression=False)"
   ]
  },
  {
   "cell_type": "markdown",
   "metadata": {},
   "source": [
    "Тут 0, 1, 2, 3, 4, 5, 6 - коположительные   \n",
    "Остальные - нет."
   ]
  },
  {
   "cell_type": "markdown",
   "metadata": {},
   "source": [
    "Проверь, что они реально удовлетворяют условиям - кажись нет, Роланд ровно это проверял."
   ]
  },
  {
   "cell_type": "markdown",
   "metadata": {},
   "source": [
    "#### 3. Проверяем сам storm\n",
    "Хотим проверить одну вещь:\n",
    "* Есть ли в части объединения этих пространств, не лежащих ни в одном из них, коположительные матрицы"
   ]
  },
  {
   "cell_type": "code",
   "execution_count": 35,
   "metadata": {},
   "outputs": [],
   "source": [
    "g = ALL_GRAPHS['storm']\n",
    "I = find_stable_sets(g)\n",
    "A, var_matr, num_params = build_triple_equalities(I, g.shape[0])"
   ]
  },
  {
   "cell_type": "code",
   "execution_count": 75,
   "metadata": {},
   "outputs": [],
   "source": [
    "def get_graph_starts(g):\n",
    "    I = find_stable_sets(g)\n",
    "    A, var_matr, num_params = build_triple_equalities(I, g.shape[0])\n",
    "    \n",
    "    num_combs = total_num_of_combinations(I, var_matr, num_params, only_nonequivalent=True)\n",
    "\n",
    "    chain_starts = []\n",
    "\n",
    "    for i, (addA, addB, opening) in tqdm(enumerate(build_variance_equalities_iterator(\n",
    "            I, var_matr, num_params, only_nonequivalent=True)), total=num_combs):\n",
    "        \n",
    "        rank, null_basis = get_rank_and_nullspace(np.array(A + addA, dtype=np.float64))\n",
    "        \n",
    "        if len(null_basis) != 0 and len(null_basis[0]) != 0:\n",
    "            get_new_starts(chain_starts, [i, rank, null_basis, opening])\n",
    "\n",
    "    print(\"{} x {}\".format(len(A), len(A[0])), \"{} x {}\".format(len(addA), len(addA[0])))\n",
    "    print(len(chain_starts), \"dimensions:\", \",\".join([str(len(x[2][0])) for x in chain_starts]))\n",
    "\n",
    "    print(\"openings:\")\n",
    "    for x in chain_starts: \n",
    "        pprint(x[-1])\n",
    "    \n",
    "    return chain_starts"
   ]
  },
  {
   "cell_type": "code",
   "execution_count": 36,
   "metadata": {},
   "outputs": [
    {
     "name": "stderr",
     "output_type": "stream",
     "text": [
      "100%|██████████| 131072/131072 [09:37<00:00, 227.08it/s]"
     ]
    },
    {
     "name": "stdout",
     "output_type": "stream",
     "text": [
      "19 x 45 35 x 45\n",
      "2 dimensions: 7,7\n",
      "openings:\n",
      "defaultdict(<class 'list'>,\n",
      "            {0: [([2, 27, 14], 1), ([8, 29, 10], -1), ([8, 38, 12], -1)],\n",
      "             3: [([1, 19, 30], 1), ([1, 21, 32], 1), ([7, 37, 30], 1)],\n",
      "             5: [([7, 28, 26], 1), ([8, 29, 26], 1)],\n",
      "             9: [([11, 30, 19], 1), ([11, 32, 21], 1)],\n",
      "             13: [([16, 29, 26], 1)],\n",
      "             15: [([11, 30, 37], 1)],\n",
      "             17: [([1, 6, 27], 1)],\n",
      "             22: [([1, 4, 37], 1), ([18, 30, 37], 1), ([18, 31, 40], 1)],\n",
      "             23: [([1, 4, 38], 1)],\n",
      "             24: [([10, 14, 32], 1), ([28, 40, 31], -1)],\n",
      "             25: [([2, 7, 37], 1), ([2, 8, 38], 1), ([10, 16, 38], 1)],\n",
      "             34: [([11, 12, 38], 1)],\n",
      "             35: [([19, 18, 31], 1), ([37, 33, 31], 1)],\n",
      "             36: [([4, 1, 21], 1), ([12, 11, 32], -1), ([19, 18, 32], -1)],\n",
      "             39: [([20, 18, 32], 1)],\n",
      "             42: [([6, 2, 28], 1)],\n",
      "             43: [([6, 2, 29], 1), ([14, 10, 29], 1)],\n",
      "             44: [([7, 2, 29], 1), ([7, 4, 38], 1), ([28, 26, 41], -1)]})\n",
      "defaultdict(<class 'list'>,\n",
      "            {0: [([2, 27, 14], 1), ([8, 29, 10], -1), ([8, 38, 12], -1)],\n",
      "             3: [([1, 19, 30], 1), ([1, 21, 32], 1), ([7, 37, 30], 1)],\n",
      "             5: [([7, 28, 26], 1), ([8, 29, 26], 1)],\n",
      "             9: [([11, 30, 19], 1), ([11, 32, 21], 1)],\n",
      "             13: [([16, 29, 26], 1)],\n",
      "             15: [([11, 30, 37], 1)],\n",
      "             17: [([1, 6, 27], 1)],\n",
      "             22: [([1, 4, 37], 1), ([18, 30, 37], 1), ([18, 31, 40], 1)],\n",
      "             23: [([1, 4, 38], 1)],\n",
      "             24: [([10, 14, 32], 1), ([28, 40, 31], 1)],\n",
      "             25: [([2, 7, 37], 1), ([2, 8, 38], 1), ([10, 16, 38], 1)],\n",
      "             34: [([11, 12, 38], 1)],\n",
      "             35: [([19, 18, 31], 1), ([37, 33, 31], 1)],\n",
      "             36: [([4, 1, 21], 1), ([12, 11, 32], -1), ([19, 18, 32], -1)],\n",
      "             39: [([20, 18, 32], 1)],\n",
      "             42: [([6, 2, 28], 1)],\n",
      "             43: [([6, 2, 29], 1), ([14, 10, 29], 1)],\n",
      "             44: [([7, 2, 29], 1), ([7, 4, 38], 1), ([28, 26, 41], -1)]})\n",
      "CPU times: user 18min 43s, sys: 13min 20s, total: 32min 4s\n",
      "Wall time: 9min 37s\n"
     ]
    },
    {
     "name": "stderr",
     "output_type": "stream",
     "text": [
      "\n"
     ]
    }
   ],
   "source": [
    "%%time\n",
    "\n",
    "num_combs = total_num_of_combinations(I, var_matr, num_params, only_nonequivalent=True)\n",
    "\n",
    "chain_starts = []\n",
    "\n",
    "for i, (addA, addB, opening) in tqdm(enumerate(build_variance_equalities_iterator(\n",
    "        I, var_matr, num_params, only_nonequivalent=True)), total=num_combs):\n",
    "    rank, null_basis = get_rank_and_nullspace(np.array(A + addA, dtype=np.float64))\n",
    "    if len(null_basis) != 0:\n",
    "        get_new_starts(chain_starts, [i, rank, null_basis, opening])\n",
    "\n",
    "print(\"{} x {}\".format(len(A), len(A[0])), \"{} x {}\".format(len(addA), len(addA[0])))\n",
    "print(len(chain_starts), \"dimensions:\", \",\".join([str(len(x[2][0])) for x in chain_starts]))\n",
    "\n",
    "print(\"openings:\")\n",
    "for x in chain_starts: \n",
    "    pprint(x[-1])"
   ]
  },
  {
   "cell_type": "code",
   "execution_count": 37,
   "metadata": {},
   "outputs": [],
   "source": [
    "first_space  = chain_starts[0][2]\n",
    "second_space = chain_starts[1][2]"
   ]
  },
  {
   "cell_type": "markdown",
   "metadata": {},
   "source": [
    "#### Проверяем центральную точку"
   ]
  },
  {
   "cell_type": "code",
   "execution_count": 38,
   "metadata": {},
   "outputs": [
    {
     "data": {
      "text/plain": [
       "array([[ 1. ,  1. , -0.5, -0.5,  1. , -0.5,  1. , -0.5, -0.5, -0.5],\n",
       "       [ 1. ,  1. ,  1. , -0.5, -0.5, -0.5,  1. , -0.5,  1. , -0.5],\n",
       "       [-0.5,  1. ,  1. ,  1. , -0.5, -0.5, -0.5, -0.5,  1. ,  1. ],\n",
       "       [-0.5, -0.5,  1. ,  1. ,  1. ,  1. , -0.5, -0.5, -0.5, -0.5],\n",
       "       [ 1. , -0.5, -0.5,  1. ,  1. , -0.5, -0.5, -0.5, -0.5,  1. ],\n",
       "       [-0.5, -0.5, -0.5,  1. , -0.5,  1. ,  1. ,  1. , -0.5, -0.5],\n",
       "       [ 1. ,  1. , -0.5, -0.5, -0.5,  1. ,  1. ,  1. , -0.5, -0.5],\n",
       "       [-0.5, -0.5, -0.5, -0.5, -0.5,  1. ,  1. ,  1. ,  1. ,  1. ],\n",
       "       [-0.5,  1. ,  1. , -0.5, -0.5, -0.5, -0.5,  1. ,  1. ,  1. ],\n",
       "       [-0.5, -0.5,  1. , -0.5,  1. , -0.5, -0.5,  1. ,  1. ,  1. ]])"
      ]
     },
     "execution_count": 38,
     "metadata": {},
     "output_type": "execute_result"
    }
   ],
   "source": [
    "center = get_center_point(g, var_matr)\n",
    "get_matrix_at_point(var_matr, center)"
   ]
  },
  {
   "cell_type": "code",
   "execution_count": 39,
   "metadata": {},
   "outputs": [
    {
     "data": {
      "text/plain": [
       "-2.220446049250313e-16"
      ]
     },
     "execution_count": 39,
     "metadata": {},
     "output_type": "execute_result"
    }
   ],
   "source": [
    "check_lem6(var_matr, I, center)"
   ]
  },
  {
   "cell_type": "markdown",
   "metadata": {},
   "source": [
    "Код говорит, что она копложительна"
   ]
  },
  {
   "cell_type": "markdown",
   "metadata": {},
   "source": [
    "#### Проверяем по отдельности"
   ]
  },
  {
   "cell_type": "code",
   "execution_count": 53,
   "metadata": {
    "scrolled": false
   },
   "outputs": [],
   "source": [
    "np.savetxt(\"second_base.txt\", second_space)"
   ]
  },
  {
   "cell_type": "code",
   "execution_count": 59,
   "metadata": {},
   "outputs": [],
   "source": [
    "direction = get_random_direction(first_space)"
   ]
  },
  {
   "cell_type": "code",
   "execution_count": 60,
   "metadata": {},
   "outputs": [],
   "source": [
    "point = center + 0.1 * direction\n",
    "s=get_matrix_at_point(var_matr, point)"
   ]
  },
  {
   "cell_type": "code",
   "execution_count": 61,
   "metadata": {},
   "outputs": [
    {
     "data": {
      "text/plain": [
       "-3.3306690738754696e-16"
      ]
     },
     "execution_count": 61,
     "metadata": {},
     "output_type": "execute_result"
    }
   ],
   "source": [
    "check_lem6(var_matr, I, point)"
   ]
  },
  {
   "cell_type": "code",
   "execution_count": 62,
   "metadata": {},
   "outputs": [
    {
     "data": {
      "text/plain": [
       "array([[ 1.        ,  0.99999455, -0.43804646, -0.49416199,  0.99991935,\n",
       "        -0.50702983,  0.99936852, -0.50987196, -0.49890566, -0.42758519],\n",
       "       [ 0.99999455,  1.        ,  0.99872006, -0.49702876, -0.49403572,\n",
       "        -0.50987196,  0.99948036, -0.50702983,  0.99983237, -0.42459918],\n",
       "       [-0.43804646,  0.99872006,  1.        ,  0.99798796, -0.44942783,\n",
       "        -0.55273003, -0.52754393, -0.54997641,  0.99762656,  0.99993267],\n",
       "       [-0.49416199, -0.49702876,  0.99798796,  1.        ,  0.99999406,\n",
       "         0.99988952, -0.5247408 , -0.49591633, -0.50690464, -0.57459231],\n",
       "       [ 0.99991935, -0.49403572, -0.44942783,  0.99999406,  1.        ,\n",
       "        -0.49604244, -0.52180436, -0.49890566, -0.50987196,  0.99694345],\n",
       "       [-0.50702983, -0.50987196, -0.55273003,  0.99988952, -0.49604244,\n",
       "         1.        ,  0.99955214,  0.99999455, -0.49403572, -0.56236343],\n",
       "       [ 0.99936852,  0.99948036, -0.52754393, -0.5247408 , -0.52180436,\n",
       "         0.99955214,  1.        ,  0.99964547, -0.46779617, -0.39519471],\n",
       "       [-0.50987196, -0.50702983, -0.54997641, -0.49591633, -0.49890566,\n",
       "         0.99999455,  0.99964547,  1.        ,  0.99991935,  0.99565852],\n",
       "       [-0.49890566,  0.99983237,  0.99762656, -0.50690464, -0.50987196,\n",
       "        -0.49403572, -0.46779617,  0.99991935,  1.        ,  0.99676035],\n",
       "       [-0.42758519, -0.42459918,  0.99993267, -0.57459231,  0.99694345,\n",
       "        -0.56236343, -0.39519471,  0.99565852,  0.99676035,  1.        ]])"
      ]
     },
     "execution_count": 62,
     "metadata": {},
     "output_type": "execute_result"
    }
   ],
   "source": [
    "s"
   ]
  },
  {
   "cell_type": "code",
   "execution_count": 63,
   "metadata": {},
   "outputs": [],
   "source": [
    "scipy.io.savemat('a', {'data':s}, do_compression=False)"
   ]
  },
  {
   "cell_type": "markdown",
   "metadata": {},
   "source": [
    "Проверил три случайных направления - для них норм"
   ]
  },
  {
   "cell_type": "code",
   "execution_count": 968,
   "metadata": {},
   "outputs": [],
   "source": [
    "direction = get_random_direction(second_space)\n",
    "point = center + 0.1 * direction\n",
    "s=get_matrix_at_point(var_matr, point)"
   ]
  },
  {
   "cell_type": "code",
   "execution_count": 969,
   "metadata": {},
   "outputs": [
    {
     "data": {
      "text/plain": [
       "-4.440892098500626e-16"
      ]
     },
     "execution_count": 969,
     "metadata": {},
     "output_type": "execute_result"
    }
   ],
   "source": [
    "check_lem6(var_matr, I, point)"
   ]
  },
  {
   "cell_type": "code",
   "execution_count": 478,
   "metadata": {},
   "outputs": [
    {
     "data": {
      "text/plain": [
       "array([[ 1.        ,  0.83822058, -0.3419432 , -0.2308309 ,  0.93647758,\n",
       "        -0.60402616,  0.99383016, -0.94091686, -0.11229967, -0.75876868],\n",
       "       [ 0.83822058,  1.        ,  0.7948362 , -0.72409126, -0.05524488,\n",
       "        -0.94091686,  0.89353303, -0.60402616,  0.91486948, -0.28080841],\n",
       "       [-0.3419432 ,  0.7948362 ,  1.        ,  0.99327347, -0.64980795,\n",
       "        -0.54238132,  0.23289275,  0.00351535,  0.97217642,  0.87155239],\n",
       "       [-0.2308309 , -0.72409126,  0.99327347,  1.        ,  0.72865322,\n",
       "         0.91486948, -0.33732403, -0.11229967, -0.94091686, -0.45862222],\n",
       "       [ 0.93647758, -0.05524488, -0.64980795,  0.72865322,  1.        ,\n",
       "        -0.28613965, -0.89053313, -0.76237804, -0.45367499,  0.97381136],\n",
       "       [-0.60402616, -0.94091686, -0.54238132,  0.91486948, -0.28613965,\n",
       "         1.        ,  0.69071415,  0.83822058, -0.72409126, -0.0607948 ],\n",
       "       [ 0.99383016,  0.89353303,  0.23289275, -0.33732403, -0.89053313,\n",
       "         0.69071415,  1.        ,  0.97331512, -0.00139575, -0.68184312],\n",
       "       [-0.94091686, -0.60402616,  0.00351535, -0.11229967, -0.76237804,\n",
       "         0.83822058,  0.97331512,  1.        ,  0.44216021,  0.93451333],\n",
       "       [-0.11229967,  0.91486948,  0.97217642, -0.94091686, -0.45367499,\n",
       "        -0.72409126, -0.00139575,  0.44216021,  1.        ,  0.7324494 ],\n",
       "       [-0.75876868, -0.28080841,  0.87155239, -0.45862222,  0.97381136,\n",
       "        -0.0607948 , -0.68184312,  0.93451333,  0.7324494 ,  1.        ]])"
      ]
     },
     "execution_count": 478,
     "metadata": {},
     "output_type": "execute_result"
    }
   ],
   "source": [
    "s"
   ]
  },
  {
   "cell_type": "code",
   "execution_count": 475,
   "metadata": {},
   "outputs": [],
   "source": [
    "scipy.io.savemat('a', {'data':s}, do_compression=False)"
   ]
  },
  {
   "cell_type": "markdown",
   "metadata": {},
   "source": [
    "Проверил три случайных направлений - норм. (Для каких-то направлений нужно было взять шаг 0.1, но всё равно матрица была в многообразии)"
   ]
  },
  {
   "cell_type": "markdown",
   "metadata": {},
   "source": [
    "#### Проверяем объединение"
   ]
  },
  {
   "cell_type": "code",
   "execution_count": 509,
   "metadata": {},
   "outputs": [],
   "source": [
    "_, v, d = np.linalg.svd(np.hstack([first_space, second_space]).T)"
   ]
  },
  {
   "cell_type": "code",
   "execution_count": 511,
   "metadata": {},
   "outputs": [],
   "source": [
    "tol = v.max() * max(np.hstack([first_space, second_space]).shape) * np.finfo(first_space.dtype).eps\n",
    "nnz = (v >= tol).sum()"
   ]
  },
  {
   "cell_type": "code",
   "execution_count": 514,
   "metadata": {},
   "outputs": [],
   "source": [
    "concat_space = d[:nnz].T"
   ]
  },
  {
   "cell_type": "code",
   "execution_count": 519,
   "metadata": {},
   "outputs": [
    {
     "data": {
      "text/plain": [
       "(45, 8)"
      ]
     },
     "execution_count": 519,
     "metadata": {},
     "output_type": "execute_result"
    }
   ],
   "source": [
    "concat_space.shape"
   ]
  },
  {
   "cell_type": "code",
   "execution_count": 868,
   "metadata": {},
   "outputs": [],
   "source": [
    "# get direction that doesn't belong to base subspaces\n",
    "\n",
    "direction = get_random_direction(concat_space)"
   ]
  },
  {
   "cell_type": "code",
   "execution_count": 878,
   "metadata": {},
   "outputs": [
    {
     "name": "stdout",
     "output_type": "stream",
     "text": [
      "False\n",
      "False\n"
     ]
    }
   ],
   "source": [
    "print(a_is_subspace_of_b(np.array([direction]).T, first_space))\n",
    "print(a_is_subspace_of_b(np.array([direction]).T, second_space))"
   ]
  },
  {
   "cell_type": "code",
   "execution_count": 882,
   "metadata": {},
   "outputs": [],
   "source": [
    "point = center + 1e-1 * direction\n",
    "s=get_matrix_at_point(var_matr, point)"
   ]
  },
  {
   "cell_type": "code",
   "execution_count": 883,
   "metadata": {},
   "outputs": [
    {
     "data": {
      "text/plain": [
       "array([[ 1.        ,  0.99996276, -0.49694337, -0.50281231,  0.99999707,\n",
       "        -0.50374154,  0.99998673, -0.49626783, -0.49636562, -0.49172855],\n",
       "       [ 0.99996276,  1.        ,  0.99999386, -0.49533397, -0.49788464,\n",
       "        -0.49626783,  0.99999395, -0.50374154,  0.99999131, -0.49922467],\n",
       "       [-0.49694337,  0.99999386,  1.        ,  0.99997704, -0.49484247,\n",
       "        -0.49930715, -0.50025489, -0.50676568,  0.99999978,  0.99998201],\n",
       "       [-0.50281231, -0.49533397,  0.99997704,  1.        ,  0.99999568,\n",
       "         0.99999942, -0.49835267, -0.50091231, -0.50081482, -0.50542406],\n",
       "       [ 0.99999707, -0.49788464, -0.49484247,  0.99999568,  1.        ,\n",
       "        -0.50583   , -0.50488579, -0.49836676, -0.49426393,  0.99999881],\n",
       "       [-0.50374154, -0.49626783, -0.49930715,  0.99999942, -0.50583   ,\n",
       "         1.        ,  0.9999994 ,  0.99996276, -0.49988377, -0.50449589],\n",
       "       [ 0.99998673,  0.99999395, -0.50025489, -0.49835267, -0.50488579,\n",
       "         0.9999994 ,  1.        ,  0.99997161, -0.50083115, -0.49620772],\n",
       "       [-0.49626783, -0.50374154, -0.50676568, -0.50091231, -0.49836676,\n",
       "         0.99996276,  0.99997161,  1.        ,  0.99999999,  0.99998637],\n",
       "       [-0.49636562,  0.99999131,  0.99999978, -0.50081482, -0.49426393,\n",
       "        -0.49988377, -0.50083115,  0.99999999,  1.        ,  0.99998578],\n",
       "       [-0.49172855, -0.49922467,  0.99998201, -0.50542406,  0.99999881,\n",
       "        -0.50449589, -0.49620772,  0.99998637,  0.99998578,  1.        ]])"
      ]
     },
     "execution_count": 883,
     "metadata": {},
     "output_type": "execute_result"
    }
   ],
   "source": [
    "s"
   ]
  },
  {
   "cell_type": "code",
   "execution_count": 884,
   "metadata": {},
   "outputs": [
    {
     "data": {
      "text/plain": [
       "-3.3306690738754696e-16"
      ]
     },
     "execution_count": 884,
     "metadata": {},
     "output_type": "execute_result"
    }
   ],
   "source": [
    "check_lem6(var_matr, I, point)"
   ]
  },
  {
   "cell_type": "code",
   "execution_count": 873,
   "metadata": {},
   "outputs": [],
   "source": [
    "scipy.io.savemat('a', {'data':s}, do_compression=False)"
   ]
  },
  {
   "cell_type": "code",
   "execution_count": 875,
   "metadata": {},
   "outputs": [],
   "source": [
    "copos_directions = [\n",
    "   [ -0.07816216619234312 , -0.16672522621276023 , -0.11347128367631763 , 0.0011252746761362662 ,0.09671757697226963 ,-0.09169722056166929 ,0.17487974316461422 ,-0.15053842062387043 ,-0.12811790954570404 ,-0.10487209392412418 ,-0.035309117483975416 ,-0.27272259481302136 ,0.174879743164613 ,-0.1698593867540129 ,0.0967175769722704 ,-0.1210588995130135 ,-0.20628007573804644 ,-0.0532539425364418 ,-0.16785050088889705 ,0.0700076492404902 ,-0.042654394473312505 ,-0.008154516951853938 ,-0.016186805588889536 ,-0.03860731666705553 ,0.23741347732904702 ,-0.21018886064858983 ,-0.20516850423798655 ,-0.06140845948829607 ,0.26400970430018783 ,0.24158919322202146 ,0.09784285164840724 ,0.21050489536220945 ,0.17600501784075212 ,-0.1516636953000079 ,-0.0664425190749736 ,0.11266204371380223 ,-0.07816216619234445 ,0.05382084365159984 ,0.03140033257343362 ,-0.03449987752145654 ,-0.058841200062202316 ,-0.03642068898403502 ,0.3254181637884847 ,0.302997652710317 ,-0.02242051107816685],\n",
    "[-0.27470036720852387 ,\n",
    "0.11223330193181104 ,\n",
    "-0.10346446789065462 ,\n",
    "-0.07700922637242001 ,\n",
    "-0.13769346568101634 ,\n",
    "0.16397934714636758 ,\n",
    "0.13700690152750777 ,\n",
    "0.13342157338219765 ,\n",
    "0.3031903248838833 ,\n",
    "-0.11154673777830303 ,\n",
    "0.17123589931786906 ,\n",
    "0.07769579052592844 ,\n",
    "0.1370069015275076 ,\n",
    "-0.11072102006215567 ,\n",
    "-0.1376934656810157 ,\n",
    "-0.13273500922868955 ,\n",
    "0.02848995767535958 ,\n",
    "0.2156977698224656 ,\n",
    "0.1892425283042312 ,\n",
    "0.025460163749204793 ,\n",
    "-0.009369502313783397 ,\n",
    "-0.24924020345931897 ,\n",
    "-0.021188271450386723 ,\n",
    "-0.1909570229520721 ,\n",
    "0.09354010879194083 ,\n",
    "0.03422899779036152 ,\n",
    "0.06051487925571332 ,\n",
    "-0.03354243363685358 ,\n",
    "-0.02995710549154304 ,\n",
    "-0.19972585699322853 ,\n",
    "-0.21470269205343634 ,\n",
    "-0.17987302599044777 ,\n",
    "0.059997675155087644 ,\n",
    "0.2104307997546181 ,\n",
    "0.049205832850568704 ,\n",
    "0.03482966606298851 ,\n",
    "-0.27470036720852375 ,\n",
    "0.004271892298818064 ,\n",
    "-0.1654968592028671 ,\n",
    "0.2398707011455354 ,\n",
    "-0.030557773764170192 ,\n",
    "0.13921097773751545 ,\n",
    "0.003585328145309792 ,\n",
    "-0.1661834233563754 ,\n",
    "-0.16976875150168572 ,]\n",
    "] # дают коположительные матрицы даже при шаге 0.1\n",
    "# остальные дают коположитльные матрицы только при шаге 1e-7, что в матлабе эквивалентно центральное точке \n",
    "# по лемме 6 обычно всё ясно - если она выполнена, то это скорее всего коположительная матрица\n",
    "# надо на них подробнее посмотреть\n",
    "\n",
    "# дающие коположительные матрицы лучи могут быть из другого страта?"
   ]
  },
  {
   "cell_type": "code",
   "execution_count": 877,
   "metadata": {},
   "outputs": [
    {
     "name": "stdout",
     "output_type": "stream",
     "text": [
      "False\n",
      "False\n",
      "True\n"
     ]
    }
   ],
   "source": [
    "print(a_is_subspace_of_b(np.array([np.array(copos_directions[0])]).T, first_space))\n",
    "print(a_is_subspace_of_b(np.array([np.array(copos_directions[0])]).T, second_space))\n",
    "print(a_is_subspace_of_b(np.array([np.array(copos_directions[0])]).T, concat_space))"
   ]
  },
  {
   "cell_type": "markdown",
   "metadata": {},
   "source": [
    "### Оставшиеся графы на 10 вершинах из статьи"
   ]
  },
  {
   "cell_type": "code",
   "execution_count": 101,
   "metadata": {},
   "outputs": [],
   "source": [
    "rest_of_the_graphs = {\n",
    "    \"5\": np.array([\n",
    "        [1, 1, 1, 1, 0, 1, 0, 0, 0, 0],\n",
    "        [1, 1, 0, 1, 0, 0, 0, 0, 1, 1],\n",
    "        [1, 0, 1, 0, 1, 0, 0, 1, 0, 1],\n",
    "        [1, 1, 0, 1, 1, 0, 0, 0, 1, 0],\n",
    "        [0, 0, 1, 1, 1, 0, 1, 0, 1, 0],\n",
    "        [1, 0, 0, 0, 0, 1, 1, 1, 0, 0],\n",
    "        [0, 0, 0, 0, 1, 1, 1, 0, 0, 1],\n",
    "        [0, 0, 1, 0, 0, 1, 0, 1, 1, 1],\n",
    "        [0, 1, 0, 1, 1, 0, 0, 1, 1, 0],\n",
    "        [0, 1, 1, 0, 0, 0, 1, 1, 0, 1]\n",
    "    ]),\n",
    "    \"6\": np.array([\n",
    "        [1, 1, 1, 0, 1, 0, 0, 0, 1, 0],\n",
    "        [1, 1, 1, 0, 0, 1, 1, 0, 0, 0],\n",
    "        [1, 1, 1, 1, 0, 0, 0, 0, 0, 1],\n",
    "        [0, 0, 1, 1, 1, 0, 1, 1, 0, 0],\n",
    "        [1, 0, 0, 1, 1, 1, 0, 0, 1, 0],\n",
    "        [0, 1, 0, 0, 1, 1, 1, 0, 0, 1],\n",
    "        [0, 1, 0, 1, 0, 1, 1, 1, 0, 0],\n",
    "        [0, 0, 0, 1, 0, 0, 1, 1, 1, 1],\n",
    "        [1, 0, 0, 0, 1, 0, 0, 1, 1, 1],\n",
    "        [0, 0, 1, 0, 0, 1, 0, 1, 1, 1]\n",
    "    ]),\n",
    "    \"7\": np.array([\n",
    "        [1, 1, 0, 0, 0, 0, 1, 0, 0, 0],\n",
    "        [1, 1, 1, 0, 0, 0, 0, 1, 0, 0],\n",
    "        [0, 1, 1, 1, 0, 0, 0, 1, 1, 1],\n",
    "        [0, 0, 1, 1, 1, 0, 0, 0, 1, 0],\n",
    "        [0, 0, 0, 1, 1, 1, 0, 0, 0, 0],\n",
    "        [0, 0, 0, 0, 1, 1, 1, 1, 0, 1],\n",
    "        [1, 0, 0, 0, 0, 1, 1, 0, 1, 1],\n",
    "        [0, 1, 1, 0, 0, 1, 0, 1, 1, 1],\n",
    "        [0, 0, 1, 1, 0, 0, 1, 1, 1, 1],\n",
    "        [0, 0, 1, 0, 0, 1, 1, 1, 1, 1]\n",
    "    ]),\n",
    "    \"8\": np.array([\n",
    "        [1, 1, 0, 0, 1, 1, 0, 0, 0, 0],\n",
    "        [1, 1, 1, 0, 0, 0, 1, 0, 0, 0],\n",
    "        [0, 1, 1, 1, 0, 0, 0, 1, 1, 0],\n",
    "        [0, 0, 1, 1, 1, 0, 0, 0, 1, 1],\n",
    "        [1, 0, 0, 1, 1, 1, 0, 0, 0, 1],\n",
    "        [1, 0, 0, 0, 1, 1, 0, 1, 0, 0],\n",
    "        [0, 1, 0, 0, 0, 0, 1, 1, 0, 1],\n",
    "        [0, 0, 1, 0, 0, 1, 1, 1, 1, 0],\n",
    "        [0, 0, 1, 1, 0, 0, 0, 1, 1, 1],\n",
    "        [0, 0, 0, 1, 1, 0, 1, 0, 1, 1]\n",
    "    ]),\n",
    "    \"9\": np.array([\n",
    "        [1, 1, 0, 0, 1, 0, 1, 0, 0, 0],\n",
    "        [1, 1, 1, 0, 0, 0, 1, 0, 0, 0],\n",
    "        [0, 1, 1, 1, 0, 1, 0, 0, 0, 1],\n",
    "        [0, 0, 1, 1, 1, 0, 0, 0, 1, 1],\n",
    "        [1, 0, 0, 1, 1, 1, 0, 0, 1, 0],\n",
    "        [0, 0, 1, 0, 1, 1, 0, 1, 0, 0],\n",
    "        [1, 1, 0, 0, 0, 0, 1, 1, 0, 0],\n",
    "        [0, 0, 0, 0, 0, 1, 1, 1, 1, 1],\n",
    "        [0, 0, 0, 1, 1, 0, 0, 1, 1, 1],\n",
    "        [0, 0, 1, 1, 0, 0, 0, 1, 1, 1]\n",
    "    ]),\n",
    "    \"10\": np.array([\n",
    "        [1, 1, 0, 0, 1, 0, 1, 0, 0, 0],\n",
    "        [1, 1, 1, 0, 0, 0, 0, 0, 0, 0],\n",
    "        [0, 1, 1, 1, 0, 0, 0, 1, 0, 0],\n",
    "        [0, 0, 1, 1, 1, 0, 0, 1, 0, 1],\n",
    "        [1, 0, 0, 1, 1, 1, 0, 0, 0, 1],\n",
    "        [0, 0, 0, 0, 1, 1, 1, 0, 1, 1],\n",
    "        [1, 0, 0, 0, 0, 1, 1, 1, 1, 0],\n",
    "        [0, 0, 1, 1, 0, 0, 1, 1, 1, 0],\n",
    "        [0, 0, 0, 0, 0, 1, 1, 1, 1, 1],\n",
    "        [0, 0, 0, 1, 1, 1, 0, 0, 1, 1]\n",
    "    ]),\n",
    "    \"11\": np.array([\n",
    "        [1, 1, 0, 0, 0, 1, 0, 1, 1, 0],\n",
    "        [1, 1, 1, 0, 0, 0, 0, 0, 1, 0],\n",
    "        [0, 1, 1, 1, 0, 0, 0, 0, 0, 0],\n",
    "        [0, 0, 1, 1, 1, 0, 0, 0, 0, 1],\n",
    "        [0, 0, 0, 1, 1, 1, 1, 0, 0, 1],\n",
    "        [1, 0, 0, 0, 1, 1, 1, 1, 0, 0],\n",
    "        [0, 0, 0, 0, 1, 1, 1, 1, 0, 1],\n",
    "        [1, 0, 0, 0, 0, 1, 1, 1, 1, 0],\n",
    "        [1, 1, 0, 0, 0, 0, 0, 1, 1, 1],\n",
    "        [0, 0, 0, 1, 1, 0, 1, 0, 1, 1]\n",
    "    ]),\n",
    "    \"12\": np.array([\n",
    "        [1, 1, 0, 0, 1, 1, 0, 0, 0, 0],\n",
    "        [1, 1, 1, 0, 0, 0, 0, 1, 1, 0],\n",
    "        [0, 1, 1, 1, 0, 0, 0, 0, 1, 1],\n",
    "        [0, 0, 1, 1, 1, 0, 0, 0, 1, 1],\n",
    "        [1, 0, 0, 1, 1, 1, 0, 0, 0, 0],\n",
    "        [1, 0, 0, 0, 1, 1, 1, 0, 0, 0],\n",
    "        [0, 0, 0, 0, 0, 1, 1, 1, 0, 1],\n",
    "        [0, 1, 0, 0, 0, 0, 1, 1, 1, 0],\n",
    "        [0, 1, 1, 1, 0, 0, 0, 1, 1, 0],\n",
    "        [0, 0, 1, 1, 0, 0, 1, 0, 0, 1]\n",
    "    ]),\n",
    "    \"13\": np.array([\n",
    "        [1, 1, 0, 0, 1, 1, 0, 0, 0, 0],\n",
    "        [1, 1, 1, 0, 0, 0, 0, 1, 1, 0],\n",
    "        [0, 1, 1, 1, 0, 0, 0, 1, 1, 0],\n",
    "        [0, 0, 1, 1, 1, 0, 0, 0, 1, 1],\n",
    "        [1, 0, 0, 1, 1, 0, 0, 0, 0, 1],\n",
    "        [1, 0, 0, 0, 0, 1, 1, 0, 1, 0],\n",
    "        [0, 0, 0, 0, 0, 1, 1, 1, 0, 1],\n",
    "        [0, 1, 1, 0, 0, 0, 1, 1, 0, 0],\n",
    "        [0, 1, 1, 1, 0, 1, 0, 0, 1, 1],\n",
    "        [0, 0, 0, 1, 1, 0, 1, 0, 1, 1]\n",
    "    ]),\n",
    "    \"14\": np.array([\n",
    "        [1, 1, 0, 0, 1, 1, 0, 1, 0, 0],\n",
    "        [1, 1, 1, 0, 0, 0, 1, 0, 0, 0],\n",
    "        [0, 1, 1, 1, 0, 0, 0, 1, 1, 0],\n",
    "        [0, 0, 1, 1, 1, 0, 0, 0, 1, 0],\n",
    "        [1, 0, 0, 1, 1, 1, 0, 0, 0, 0],\n",
    "        [1, 0, 0, 0, 1, 1, 0, 1, 0, 1],\n",
    "        [0, 1, 0, 0, 0, 0, 1, 0, 0, 1],\n",
    "        [1, 0, 1, 0, 0, 1, 0, 1, 1, 1],\n",
    "        [0, 0, 1, 1, 0, 0, 0, 1, 1, 1],\n",
    "        [0, 0, 0, 0, 0, 1, 1, 1, 1, 1]\n",
    "    ]),\n",
    "    \"15\": np.array([\n",
    "        [1, 1, 0, 0, 1, 1, 0, 0, 0, 0],\n",
    "        [1, 1, 1, 0, 0, 0, 0, 1, 0, 0],\n",
    "        [0, 1, 1, 1, 0, 0, 0, 0, 1, 0],\n",
    "        [0, 0, 1, 1, 1, 0, 0, 0, 1, 1],\n",
    "        [1, 0, 0, 1, 1, 1, 0, 0, 0, 1],\n",
    "        [1, 0, 0, 0, 1, 1, 1, 0, 1, 0],\n",
    "        [0, 0, 0, 0, 0, 1, 1, 1, 1, 1],\n",
    "        [0, 1, 0, 0, 0, 0, 1, 1, 0, 1],\n",
    "        [0, 0, 1, 1, 0, 1, 1, 0, 1, 0],\n",
    "        [0, 0, 0, 1, 1, 0, 1, 1, 0, 1]\n",
    "    ]),\n",
    "    \"16\": np.array([\n",
    "        [1, 1, 1, 1, 0, 0, 0, 1, 0, 0],\n",
    "        [1, 1, 1, 0, 0, 0, 1, 0, 0, 1],\n",
    "        [1, 1, 1, 1, 1, 0, 0, 0, 0, 0],\n",
    "        [1, 0, 1, 1, 1, 1, 0, 0, 0, 0],\n",
    "        [0, 0, 1, 1, 1, 1, 1, 0, 0, 0],\n",
    "        [0, 0, 0, 1, 1, 1, 1, 1, 0, 0],\n",
    "        [0, 1, 0, 0, 1, 1, 1, 1, 0, 0],\n",
    "        [1, 0, 0, 0, 0, 1, 1, 1, 1, 0],\n",
    "        [0, 0, 0, 0, 0, 0, 0, 1, 1, 1],\n",
    "        [0, 1, 0, 0, 0, 0, 0, 0, 1, 1]\n",
    "    ])\n",
    "}"
   ]
  },
  {
   "cell_type": "code",
   "execution_count": 102,
   "metadata": {},
   "outputs": [],
   "source": [
    "for x in rest_of_the_graphs.values():\n",
    "    if not is_copirr(x):\n",
    "        print(x)"
   ]
  },
  {
   "cell_type": "code",
   "execution_count": 103,
   "metadata": {},
   "outputs": [],
   "source": [
    "del rest_of_the_graphs[\"5\"]\n",
    "del rest_of_the_graphs[\"6\"]\n",
    "del rest_of_the_graphs[\"7\"]\n",
    "del rest_of_the_graphs[\"8\"]\n",
    "del rest_of_the_graphs[\"9\"]\n",
    "del rest_of_the_graphs[\"10\"]\n",
    "del rest_of_the_graphs[\"11\"]\n",
    "#del rest_of_the_graphs[\"12\"] # this takes 10 days...\n",
    "del rest_of_the_graphs[\"13\"] \n",
    "del rest_of_the_graphs[\"14\"]\n",
    "del rest_of_the_graphs[\"15\"] # way too much base openings...\n",
    "del rest_of_the_graphs[\"16\"] "
   ]
  },
  {
   "cell_type": "code",
   "execution_count": 104,
   "metadata": {
    "scrolled": false
   },
   "outputs": [
    {
     "name": "stderr",
     "output_type": "stream",
     "text": [
      "  0%|          | 13/134217728 [00:00<325:14:20, 114.63it/s]"
     ]
    },
    {
     "name": "stdout",
     "output_type": "stream",
     "text": [
      "Graph 12\n"
     ]
    },
    {
     "name": "stderr",
     "output_type": "stream",
     "text": [
      "100%|██████████| 134217728/134217728 [127:24:18<00:00, 292.63it/s]        \n"
     ]
    },
    {
     "name": "stdout",
     "output_type": "stream",
     "text": [
      "21 x 45 44 x 45\n",
      "1 dimensions: 7\n",
      "openings:\n",
      "defaultdict(<class 'list'>,\n",
      "            {0: [([2, 26, 13], 1)],\n",
      "             3: [([1, 20, 31], 1),\n",
      "                 ([1, 21, 32], -1),\n",
      "                 ([7, 40, 31], -1),\n",
      "                 ([8, 43, 32], -1),\n",
      "                 ([7, 44, 34], -1)],\n",
      "             4: [([1, 21, 36], 1),\n",
      "                 ([2, 27, 36], 1),\n",
      "                 ([8, 43, 36], 1),\n",
      "                 ([7, 44, 38], -1)],\n",
      "             9: [([11, 31, 20], 1)],\n",
      "             14: [([10, 25, 36], 1), ([16, 34, 32], 1), ([16, 38, 36], 1)],\n",
      "             15: [([11, 31, 40], 1), ([16, 34, 33], -1), ([16, 38, 37], -1)],\n",
      "             17: [([1, 5, 26], 1), ([1, 6, 27], 1), ([19, 36, 27], 1)],\n",
      "             22: [([1, 5, 40], 1), ([18, 31, 40], 1)],\n",
      "             23: [([1, 6, 43], 1), ([18, 32, 43], 1), ([19, 36, 43], 1)],\n",
      "             24: [([10, 13, 31], 1)],\n",
      "             28: [([2, 5, 40], 1)],\n",
      "             29: [([2, 6, 43], 1), ([10, 12, 38], -1), ([25, 36, 43], 1)],\n",
      "             30: [([11, 16, 38], 1),\n",
      "                  ([18, 21, 36], -1),\n",
      "                  ([34, 43, 36], -1),\n",
      "                  ([33, 44, 38], 1)],\n",
      "             35: [([12, 10, 26], 1)],\n",
      "             39: [([5, 1, 21], 1), ([5, 2, 27], 1), ([20, 18, 32], -1)],\n",
      "             41: [([5, 7, 44], 1), ([13, 11, 34], -1), ([40, 33, 34], -1)],\n",
      "             42: [([6, 8, 44], 1), ([43, 34, 33], -1), ([43, 38, 37], -1)]})\n"
     ]
    }
   ],
   "source": [
    "res = {}\n",
    "\n",
    "for name, g in rest_of_the_graphs.items():\n",
    "    \n",
    "    print(\"Graph {}\".format(name))\n",
    "    res[name] = get_graph_starts(g)"
   ]
  },
  {
   "cell_type": "code",
   "execution_count": null,
   "metadata": {},
   "outputs": [],
   "source": []
  }
 ],
 "metadata": {
  "kernelspec": {
   "display_name": "Python 3",
   "language": "python",
   "name": "python3"
  },
  "language_info": {
   "codemirror_mode": {
    "name": "ipython",
    "version": 3
   },
   "file_extension": ".py",
   "mimetype": "text/x-python",
   "name": "python",
   "nbconvert_exporter": "python",
   "pygments_lexer": "ipython3",
   "version": "3.7.2"
  }
 },
 "nbformat": 4,
 "nbformat_minor": 5
}
