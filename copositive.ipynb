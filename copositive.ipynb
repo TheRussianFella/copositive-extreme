{
 "cells": [
  {
   "cell_type": "markdown",
   "metadata": {},
   "source": [
    "# Inequalities testing"
   ]
  },
  {
   "cell_type": "markdown",
   "metadata": {},
   "source": [
    "Этот код нужен, чтобы проверять придуманный сертификат на адекватность - введи ограничения на углы и задай вектор u в функции func(var) и код попробует найти углы, на которых знаки Au будут разные."
   ]
  },
  {
   "cell_type": "code",
   "execution_count": 1,
   "metadata": {},
   "outputs": [],
   "source": [
    "import sympy\n",
    "import mystic.symbolic as ms\n",
    "import numpy as np\n",
    "import re\n",
    "import operator\n",
    "import pprint"
   ]
  },
  {
   "cell_type": "code",
   "execution_count": 2,
   "metadata": {},
   "outputs": [],
   "source": [
    "var = list(\"ABCDEFG\")\n",
    "add_eqs = []\n",
    "\n",
    "for _ in range(len(var)):\n",
    "    s = ' + '.join(var[:4]) + ' - ' + ' - '.join(var[4:])\n",
    "    add_eqs.append(s + '<= 3.141592653589793')\n",
    "    add_eqs.append(s + '>= -3.141592653589793')\n",
    "    var.append(var.pop(0))\n",
    "\n",
    "add_eqs.append('A + B + C + D + E + F + G > 3.141592653589793')\n",
    "add_eqs.append('A + B + C + D + E + F + G < 9.42477796076938')\n",
    "\n",
    "add_eqs = '\\n'.join(add_eqs)"
   ]
  },
  {
   "cell_type": "code",
   "execution_count": 3,
   "metadata": {},
   "outputs": [],
   "source": [
    "def check_linear_constraints(var: dict, equations: str, verbose=False):\n",
    "    \n",
    "    comps = ['<', '>', '<=', '>=']\n",
    "    COMPARES = {'<': operator.lt, '>': operator.gt, '<=': operator.le, '>=': operator.ge}\n",
    "    OPERATIONS = {'+': operator.add, '-': operator.sub}\n",
    "    RES = True\n",
    "    \n",
    "    for eq in equations.split('\\n'):\n",
    "        \n",
    "        if not len(eq):\n",
    "            continue\n",
    "                \n",
    "        # Choose a comparison that has to be done\n",
    "        COMP = ''\n",
    "        for comp in comps:\n",
    "            if comp in eq:\n",
    "                COMP = comp\n",
    "        \n",
    "        # Calculate the value on the left\n",
    "        left, right = re.split('<=|>=|<|>',eq); left.strip(); right.strip()\n",
    "        right_val = float(right)\n",
    "        \n",
    "        val = 0; op = '+'\n",
    "        \n",
    "        for el in left.split(' '):\n",
    "            \n",
    "            # Add an element\n",
    "            if el in var.keys():\n",
    "                #print(el, var[el])\n",
    "                val = OPERATIONS[op](val, var[el])\n",
    "            # Change operation\n",
    "            elif el in OPERATIONS.keys():\n",
    "                #print(op)\n",
    "                op = el\n",
    "            #print(val)\n",
    "        # Make a comparison\n",
    "        if verbose:\n",
    "            if not COMPARES[COMP](val, right_val):\n",
    "                print(eq)\n",
    "                print(val, right_val)\n",
    "                print(COMPARES[COMP](val, right_val))\n",
    "        RES = RES and COMPARES[COMP](val, right_val)\n",
    "    if verbose:\n",
    "        print(\"Final: \", RES)\n",
    "    \n",
    "    return RES"
   ]
  },
  {
   "cell_type": "code",
   "execution_count": 4,
   "metadata": {},
   "outputs": [],
   "source": [
    "equations = \"\"\"\n",
    "A + B < 3.141592653589793\n",
    "A + B > 0\n",
    "B + C < 3.141592653589793\n",
    "B + C > 0\n",
    "C + D < 3.141592653589793\n",
    "C + D > 0\n",
    "D + E < 3.141592653589793\n",
    "D + E > 0\n",
    "E + F < 3.141592653589793\n",
    "E + F > 0\n",
    "F + G < 3.141592653589793\n",
    "F + G > 0\n",
    "A + B + C + D - E - F - G < 0\n",
    "A + B + C + D - E - F - G >= -3.141592653589793\n",
    "E + F + G + A - B - C - D <= 3.141592653589793\n",
    "E + F + G + A - B - C - D >= 0\n",
    "A + B + C + D + E + F + G <= 9.42477796076938\n",
    "A + B + C + D + E + F + G >= 6.283185307179586\n",
    "B + C + D + E + F + G - A < 9.42477796076938\n",
    "B + C + D + E + F + G - A > 6.283185307179586\n",
    "\"\"\"\n",
    "equations += add_eqs"
   ]
  },
  {
   "cell_type": "code",
   "execution_count": 5,
   "metadata": {},
   "outputs": [],
   "source": [
    "eqns = ms.simplify(equations, variables=var, join=\"and_\") + '\\n'+ \"\"\"A > 0\n",
    "B > 0\n",
    "C > 0\n",
    "D > 0\n",
    "E > 0\n",
    "F > 0\n",
    "G > 0\"\"\""
   ]
  },
  {
   "cell_type": "code",
   "execution_count": 6,
   "metadata": {},
   "outputs": [],
   "source": [
    "constrain = ms.generate_constraint(ms.generate_solvers(eqns, var))"
   ]
  },
  {
   "cell_type": "code",
   "execution_count": 7,
   "metadata": {},
   "outputs": [],
   "source": [
    "def func(var: dict):\n",
    "    \n",
    "    A = np.array([\n",
    "        [1, -np.cos(var['A']), -np.cos(var['E'] + var['F'] + var['G'])],\n",
    "        [-np.cos(var['A']), 1, -np.cos(var['B'] + var['C'] + var['D'])],\n",
    "        [-np.cos(var['E'] + var['F'] + var['G']), -np.cos(var['B'] + var['C'] + var['D']), 1]\n",
    "    ])\n",
    "    \n",
    "    u = np.array([1,1,1])\n",
    "    \n",
    "    return A@u"
   ]
  },
  {
   "cell_type": "code",
   "execution_count": null,
   "metadata": {
    "scrolled": false
   },
   "outputs": [],
   "source": [
    "MAX_ITER = 1000\n",
    "\n",
    "for _ in range(MAX_ITER):\n",
    "    a = np.random.uniform(0, np.pi, 7)\n",
    "    solution = constrain(a)\n",
    "    sol = {k: v for k,v in zip(var, solution)}\n",
    "    if check_linear_constraints(sol, equations, verbose=False):\n",
    "        s = sum(func(sol) >= 0) \n",
    "        # Check that all signs are different\n",
    "        if not (s == 0 or s == len(func(sol))):\n",
    "            pprint.pprint(sol)\n",
    "            print(func(sol))"
   ]
  }
 ],
 "metadata": {
  "kernelspec": {
   "display_name": "Python 3",
   "language": "python",
   "name": "python3"
  },
  "language_info": {
   "codemirror_mode": {
    "name": "ipython",
    "version": 3
   },
   "file_extension": ".py",
   "mimetype": "text/x-python",
   "name": "python",
   "nbconvert_exporter": "python",
   "pygments_lexer": "ipython3",
   "version": "3.6.9"
  }
 },
 "nbformat": 4,
 "nbformat_minor": 2
}
