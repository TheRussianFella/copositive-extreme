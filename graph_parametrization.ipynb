{
 "cells": [
  {
   "cell_type": "markdown",
   "metadata": {
    "id": "yg4NQvUXkAuD"
   },
   "source": [
    "# Graph matrix parametrization "
   ]
  },
  {
   "cell_type": "markdown",
   "metadata": {
    "id": "k0e7x6VNkAuN"
   },
   "source": [
    "##### Dimensionality"
   ]
  },
  {
   "cell_type": "markdown",
   "metadata": {
    "id": "Sl73KvTwkAuN"
   },
   "source": [
    "Применяем лемму 4 и получаем различные выражения для углов, выражения с тремя углами раскрываются неоднозначно, поэтому там нужно будет рассмотреть все варианты. Таким образом получаем уравнение связи $A \\varphi = c$ и уравнения $B \\varphi < b$, задающий политоп. Необходимо установить, при каких вариантах раскрытия неоднозначных элементов матрицы внутренность политопа непуста. Делаем это решая задачу оптимизации."
   ]
  },
  {
   "cell_type": "markdown",
   "metadata": {
    "id": "ALEZ31U6CjjW"
   },
   "source": [
    "### Trial 3 (the dumbest version)"
   ]
  },
  {
   "cell_type": "code",
   "execution_count": 6,
   "metadata": {
    "id": "qkkhSNMNya0m"
   },
   "outputs": [],
   "source": [
    "import cvxpy as cp\n",
    "import multiprocessing as mp\n",
    "from tqdm import tqdm \n",
    "from tqdm.contrib.itertools import product\n",
    "import os\n",
    "import datetime\n",
    "\n",
    "from graph_utils import *"
   ]
  },
  {
   "cell_type": "code",
   "execution_count": 11,
   "metadata": {},
   "outputs": [],
   "source": [
    "ALL_GRAPHS = get_graphs()"
   ]
  },
  {
   "cell_type": "code",
   "execution_count": 12,
   "metadata": {},
   "outputs": [],
   "source": [
    "ALL_GRAPHS = {'dupl':ALL_GRAPHS['dupl']}"
   ]
  },
  {
   "cell_type": "code",
   "execution_count": 14,
   "metadata": {
    "id": "A4oCDLphzfEH"
   },
   "outputs": [],
   "source": [
    "def process(arg):\n",
    "\n",
    "  # явно можно переделать на спарс матрицы и таким образом увеличить возможный размер загружаемого чанка\n",
    "\n",
    "  totalA = np.array(A + arg[0])\n",
    "  totalB = np.array([1 for _ in range(len(A))] + arg[1])\n",
    "\n",
    "  prob = cp.Problem(cp.Maximize(func), [totalA @ x == totalB, B @ x <= c])\n",
    "\n",
    "  prob.solve(solver=\"ECOS\", max_iters=500, verbose=False, \n",
    "             abstol=5e-1, \n",
    "             reltol=5e-1, \n",
    "             abstol_inacc=5e-1, \n",
    "             feastol=1, \n",
    "             feastol_inacc=5e-1, \n",
    "             reltol_inacc=1)\n",
    "             \n",
    "  #prob.solve(solver=\"SCS\", max_iters=500, verbose=True, eps=1e-8)\n",
    "\n",
    "  if prob.value != -np.inf:\n",
    "    return [np.linalg.matrix_rank(totalA), arg[2]]\n",
    "\n",
    "  return []"
   ]
  },
  {
   "cell_type": "code",
   "execution_count": 4,
   "metadata": {
    "colab": {
     "base_uri": "https://localhost:8080/"
    },
    "executionInfo": {
     "elapsed": 24193,
     "status": "ok",
     "timestamp": 1632548892326,
     "user": {
      "displayName": "Maxim Manainen",
      "photoUrl": "https://lh3.googleusercontent.com/a-/AOh14GhWdnSl9Uz2T7GSbBYuLj9skhcv4CedgOU3Tv3N-Q=s64",
      "userId": "08814514285566866374"
     },
     "user_tz": -180
    },
    "id": "0tlx4tRS5WMV",
    "outputId": "fe575b7e-22bf-48b6-c092-2ca56f3f3d28"
   },
   "outputs": [],
   "source": [
    "#from google.colab import drive\n",
    "#drive.mount('/content/drive')"
   ]
  },
  {
   "cell_type": "code",
   "execution_count": 15,
   "metadata": {
    "id": "_gY9FNu9T8Qk"
   },
   "outputs": [
    {
     "name": "stderr",
     "output_type": "stream",
     "text": [
      "16it [00:00, 145.53it/s]"
     ]
    },
    {
     "name": "stdout",
     "output_type": "stream",
     "text": [
      "hello there\n",
      "6\n",
      "hello there\n",
      "5\n",
      "hello there\n",
      "7\n",
      "hello there\n",
      "6\n",
      "hello there\n",
      "7\n",
      "hello there\n",
      "6\n",
      "hello there\n",
      "8\n",
      "hello there\n",
      "7\n",
      "hello there\n",
      "6\n",
      "hello there\n",
      "5\n",
      "hello there\n",
      "7\n",
      "hello there\n",
      "6\n",
      "hello there\n",
      "6\n",
      "hello there\n",
      "5\n",
      "hello there\n",
      "7\n",
      "hello there\n",
      "6\n"
     ]
    },
    {
     "name": "stderr",
     "output_type": "stream",
     "text": [
      "\n"
     ]
    }
   ],
   "source": [
    "if not os.path.isdir(\"graphData\"):\n",
    "    os.mkdir(\"graphData\")\n",
    "\n",
    "for name, g in ALL_GRAPHS.items():\n",
    "\n",
    "  I = find_stable_sets(g)\n",
    "  A, var_matr, num_params = build_triple_equalities(I, g.shape[0])\n",
    "\n",
    "  B, c = build_inequalities(num_params)\n",
    "\n",
    "  x = cp.Variable(num_params)\n",
    "  func = cp.sum(cp.log( c - B@x ))\n",
    "  \n",
    "  if not os.path.isdir(\"graphData/{}\".format(name)):\n",
    "    os.mkdir(\"graphData/{}\".format(name))\n",
    "    \n",
    "  # если взять SCS solver, то всё feasable!\n",
    "  # chunksize кажется особо не влияет на скорость, но влияет на занимаемую память\n",
    "  # 3 граф обрабатывается быстрее всех\n",
    "  # !!!! нужно оценить, какой прирост может дать переход на улучшенный алгоритм\n",
    "  # !!!! запустить у себя на компе не оптимизированную версию - пускай считается, пока оптимизируем\n",
    "\n",
    "  # два графа опять пустые, зато big_triag пофиксился - оказалось, что он был задан неверно. но эти вроде норм заданы...\n",
    "  \n",
    "  # я не задаю нулевую точку - это тоже может влиять на сходимость: в этих солверах нельзя их задать\n",
    "  \n",
    "  # SCS всегда выдаёт feasible. Если поставить константную функцию, то ECOS тоже всё считает feasible - \n",
    "  # это странно, т.к. по идеи от неё эта штука не должа зависеть. \n",
    "\n",
    "  with mp.Pool(processes=os.cpu_count()) as pool:\n",
    "\n",
    "    for res in tqdm(pool.imap(process, build_variance_equalities_iterator(I, var_matr, num_params, only_nonequivalent=True\n",
    "                                                                         ), chunksize=1000)):\n",
    "      if len(res) != 0:\n",
    "        res[0] = num_params - res[0]\n",
    "        print(\"hello there\")\n",
    "        print(res[0])\n",
    "        #with open(\"graphData/{}/{}\".format(name, str(datetime.datetime.now())), \"w+\") as outfile:\n",
    "        #  outfile.write(\"\\n\".join(map(str, res)))"
   ]
  }
 ],
 "metadata": {
  "colab": {
   "collapsed_sections": [],
   "name": "copositive.ipynb",
   "provenance": []
  },
  "kernelspec": {
   "display_name": "cvxpy_env",
   "language": "python",
   "name": "cvxpy_env"
  },
  "language_info": {
   "codemirror_mode": {
    "name": "ipython",
    "version": 3
   },
   "file_extension": ".py",
   "mimetype": "text/x-python",
   "name": "python",
   "nbconvert_exporter": "python",
   "pygments_lexer": "ipython3",
   "version": "3.9.7"
  }
 },
 "nbformat": 4,
 "nbformat_minor": 1
}
